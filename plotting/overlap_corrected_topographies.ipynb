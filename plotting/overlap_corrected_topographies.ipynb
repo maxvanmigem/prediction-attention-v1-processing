{
 "cells": [
  {
   "cell_type": "code",
   "execution_count": 1,
   "metadata": {},
   "outputs": [],
   "source": [
    "import glob\n",
    "import numpy as np\n",
    "import pandas as pd\n",
    "import seaborn as sns\n",
    "import mne\n",
    "from matplotlib import pyplot as plt\n",
    "%matplotlib qt "
   ]
  },
  {
   "cell_type": "code",
   "execution_count": 2,
   "metadata": {},
   "outputs": [
    {
     "data": {
      "text/html": [
       "<svg  width=\"550\" height=\"55\"><rect x=\"0\" y=\"0\" width=\"55\" height=\"55\" style=\"fill:#1f77b4;stroke-width:2;stroke:rgb(255,255,255)\"/><rect x=\"55\" y=\"0\" width=\"55\" height=\"55\" style=\"fill:#ff7f0e;stroke-width:2;stroke:rgb(255,255,255)\"/><rect x=\"110\" y=\"0\" width=\"55\" height=\"55\" style=\"fill:#2ca02c;stroke-width:2;stroke:rgb(255,255,255)\"/><rect x=\"165\" y=\"0\" width=\"55\" height=\"55\" style=\"fill:#d62728;stroke-width:2;stroke:rgb(255,255,255)\"/><rect x=\"220\" y=\"0\" width=\"55\" height=\"55\" style=\"fill:#9467bd;stroke-width:2;stroke:rgb(255,255,255)\"/><rect x=\"275\" y=\"0\" width=\"55\" height=\"55\" style=\"fill:#8c564b;stroke-width:2;stroke:rgb(255,255,255)\"/><rect x=\"330\" y=\"0\" width=\"55\" height=\"55\" style=\"fill:#e377c2;stroke-width:2;stroke:rgb(255,255,255)\"/><rect x=\"385\" y=\"0\" width=\"55\" height=\"55\" style=\"fill:#7f7f7f;stroke-width:2;stroke:rgb(255,255,255)\"/><rect x=\"440\" y=\"0\" width=\"55\" height=\"55\" style=\"fill:#bcbd22;stroke-width:2;stroke:rgb(255,255,255)\"/><rect x=\"495\" y=\"0\" width=\"55\" height=\"55\" style=\"fill:#17becf;stroke-width:2;stroke:rgb(255,255,255)\"/></svg>"
      ],
      "text/plain": [
       "['#1f77b4',\n",
       " '#ff7f0e',\n",
       " '#2ca02c',\n",
       " '#d62728',\n",
       " '#9467bd',\n",
       " '#8c564b',\n",
       " '#e377c2',\n",
       " '#7f7f7f',\n",
       " '#bcbd22',\n",
       " '#17becf']"
      ]
     },
     "execution_count": 2,
     "metadata": {},
     "output_type": "execute_result"
    }
   ],
   "source": [
    "\"\"\"\n",
    "***Aestetics***\n",
    "\"\"\"\n",
    "# load color palette\n",
    "my_palette = sns.color_palette().as_hex()\n",
    "sns.color_palette().as_hex()"
   ]
  },
  {
   "cell_type": "code",
   "execution_count": null,
   "metadata": {},
   "outputs": [],
   "source": [
    "\"\"\"\n",
    "load all files like for real\n",
    "\"\"\"\n",
    "\n",
    "folder_path = f\"C:/Users/mvmigem/Documents/data/project_1/overlap_corrected/\"\n",
    "full_folder_list = glob.glob(folder_path+\"*\")[:64]\n",
    "\n",
    "# Load like the first electrode path to do stuf with\n",
    "el_1_dir_list = glob.glob(full_folder_list[0]+'/*.csv')\n",
    "# Make a sub list\n",
    "excuded_pp = [3,14,20]\n",
    "subject_list = []\n",
    "excluded_path_list = []\n",
    "\n",
    "# Creat a base df to which we append the others\n",
    "for i in el_1_dir_list:\n",
    "    sub = int(i.split(f'corrected_AF3_evoked_')[1].split('.csv')[0])\n",
    "    if sub not in excuded_pp:\n",
    "        subject_list.append(sub)\n",
    "        excluded_path_list.append(i)\n",
    "\n",
    "sub_el1_list = []\n",
    "el_base_path = folder_path + 'AF3'\n",
    "for sub_el1 in excluded_path_list:\n",
    "    df1 = pd.read_csv(sub_el1)\n",
    "    sub_el1_list.append(df1)\n",
    "\n",
    "df_base = pd.concat(sub_el1_list,ignore_index=True)\n",
    "df_el = df_base['selected_electrode'][0]\n",
    "df_base.rename(columns={'yhat':df_el},inplace=True)\n",
    "df_base = df_base.drop('selected_electrode', axis=1)\n",
    "\n",
    "# Now for all dfs\n",
    "\n",
    "for i, el_path in enumerate(full_folder_list[1:64]): #for ful folder except the var electrodes files\n",
    "    df_el = el_path.rstrip(\"/\").split(\"\\\\\")[-1]\n",
    "    sub_el_list = []\n",
    "    for sub in subject_list:\n",
    "        df_path = el_path + f'/corrected_{df_el}_evoked_{sub:02}.csv'\n",
    "        df = pd.read_csv(df_path)\n",
    "        sub_el_list.append(df)\n",
    "    df_n = pd.concat(sub_el_list,ignore_index=True)\n",
    "    df_base[df_el] = df_n['yhat']\n"
   ]
  },
  {
   "cell_type": "code",
   "execution_count": null,
   "metadata": {},
   "outputs": [],
   "source": [
    "\"\"\" \n",
    "Make visual field and set eeg stuff up\n",
    "\"\"\"\n",
    "# Make the updwon col\n",
    "df_base['visual_field'] = np.where(df_base['position'].isin([1,2]),'up','down')\n",
    "\n",
    "# Load the 10-20 montage\n",
    "montage = mne.channels.make_standard_montage('biosemi64')\n",
    "# Get the list of channel names\n",
    "electrode_names = montage.ch_names\n",
    "sfreq = 512\n"
   ]
  },
  {
   "cell_type": "code",
   "execution_count": null,
   "metadata": {},
   "outputs": [],
   "source": [
    "\"\"\" \n",
    "create mne evoked objects from df\n",
    "\"\"\"\n",
    "\n",
    "evoked_att_reg = []\n",
    "evoked_att_odd = []\n",
    "evoked_unatt_reg = []\n",
    "evoked_unatt_odd = []\n",
    "\n",
    "evoked_up = []\n",
    "evoked_down = []\n",
    "\n",
    "evoked_all = []\n",
    "\n",
    "listed = [evoked_att_reg,evoked_att_odd,evoked_unatt_reg,evoked_unatt_odd,evoked_up,evoked_down,evoked_all]\n",
    "\n",
    "for sub in subject_list:\n",
    "    df_s = df_base[df_base['subject'] == sub]\n",
    "    info = mne.create_info(ch_names = electrode_names,sfreq = sfreq, ch_types='eeg')\n",
    "    # for the experimental condditions\n",
    "    df_at_re = df_s[(df_s['attention'] == 'attended') & (df_s['expectation'] == 'regular')].groupby('time')[electrode_names].mean()\n",
    "    df_at_od = df_s[(df_s['attention'] == 'attended') & (df_s['expectation'] == 'odd')].groupby('time')[electrode_names].mean()\n",
    "    df_un_re = df_s[(df_s['attention'] == 'unattended') & (df_s['expectation'] == 'regular')].groupby('time')[electrode_names].mean()\n",
    "    df_un_od = df_s[(df_s['attention'] == 'unattended') & (df_s['expectation'] == 'odd')].groupby('time')[electrode_names].mean()\n",
    "    # for visual_field\n",
    "    df_up = df_s[df_s['visual_field'] == 'up'].groupby('time')[electrode_names].mean()\n",
    "    df_down = df_s[df_s['visual_field'] == 'down'].groupby('time')[electrode_names].mean()\n",
    "    # all conditions\n",
    "    df_all = df_s.groupby('time')[electrode_names].mean()\n",
    "\n",
    "    times = df_at_re.index\n",
    "    df_listed = [df_at_re,df_at_od,df_un_re,df_un_od,df_up,df_down,df_all]\n",
    "    for df,ev_list in zip(df_listed,listed):\n",
    "        data = df.to_numpy().T * 1e-6\n",
    "        ev = mne.EvokedArray(data=data,info= info, tmin = times[0]) \n",
    "        ev.set_montage(montage)\n",
    "        ev.apply_baseline()\n",
    "        ev_list.append(ev)"
   ]
  },
  {
   "cell_type": "code",
   "execution_count": null,
   "metadata": {},
   "outputs": [],
   "source": [
    "\"\"\" \n",
    "Grand averages\n",
    "\"\"\"\n",
    "ga_att_reg = mne.grand_average(evoked_att_reg)\n",
    "ga_att_odd = mne.grand_average(evoked_att_odd)\n",
    "ga_unatt_reg = mne.grand_average(evoked_unatt_reg) \n",
    "ga_unatt_odd = mne.grand_average(evoked_unatt_odd)\n",
    "\n",
    "ga_up = mne.grand_average(evoked_up)\n",
    "ga_down = mne.grand_average(evoked_down)\n",
    "\n",
    "ga_all = mne.grand_average(evoked_all)"
   ]
  },
  {
   "cell_type": "code",
   "execution_count": null,
   "metadata": {},
   "outputs": [],
   "source": [
    "tim = np.linspace(0, 0.3, 1)\n",
    "ga_att_reg.plot_topomap(ch_type=\"eeg\", times=tim, colorbar=True)\n",
    "ga_att_odd.plot_topomap(ch_type=\"eeg\", times=tim, colorbar=True)\n",
    "ga_unatt_reg.plot_topomap(ch_type=\"eeg\", times= tim, colorbar=True)\n",
    "ga_unatt_odd.plot_topomap(ch_type=\"eeg\", times= tim, colorbar=True)\n",
    "ga_up.plot_topomap(ch_type=\"eeg\", times= tim, colorbar=True)\n",
    "ga_down.plot_topomap(ch_type=\"eeg\", times= tim, colorbar=True)"
   ]
  },
  {
   "cell_type": "code",
   "execution_count": null,
   "metadata": {},
   "outputs": [],
   "source": [
    "for ev in evoked_all:\n",
    "    tim = np.linspace(0.10, 0.2, 8)\n",
    "    lim = (-3,3)\n",
    "    ev.plot_topomap(ch_type=\"eeg\", times= tim, colorbar=True)\n",
    "    # ga_down.plot_topomap(ch_type=\"eeg\", times= tim, colorbar=True, vlim = lim)"
   ]
  },
  {
   "cell_type": "code",
   "execution_count": null,
   "metadata": {},
   "outputs": [],
   "source": [
    "tim = np.linspace(0.10, 0.2, 8)\n",
    "lim = (-3,3)\n",
    "ga_all.plot_topomap(ch_type=\"eeg\", times= tim, colorbar=True)"
   ]
  }
 ],
 "metadata": {
  "kernelspec": {
   "display_name": "mne",
   "language": "python",
   "name": "python3"
  },
  "language_info": {
   "codemirror_mode": {
    "name": "ipython",
    "version": 3
   },
   "file_extension": ".py",
   "mimetype": "text/x-python",
   "name": "python",
   "nbconvert_exporter": "python",
   "pygments_lexer": "ipython3",
   "version": "3.9.18"
  }
 },
 "nbformat": 4,
 "nbformat_minor": 2
}
