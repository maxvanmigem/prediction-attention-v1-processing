{
 "cells": [
  {
   "cell_type": "code",
   "execution_count": 1,
   "metadata": {},
   "outputs": [],
   "source": [
    "import os, glob\n",
    "import numpy as np\n",
    "import pandas as pd\n",
    "import seaborn as sns\n",
    "from matplotlib import pyplot as plt\n",
    "from scipy import stats\n",
    "%matplotlib qt"
   ]
  },
  {
   "cell_type": "code",
   "execution_count": 2,
   "metadata": {},
   "outputs": [],
   "source": [
    "# Import data file\n",
    "data_directory = 'C:/Users/mvmigem/Documents/data/project_1/raw_data/'\n",
    "dir_list = glob.glob(data_directory+'sub_*/behav/*.csv')\n"
   ]
  },
  {
   "cell_type": "code",
   "execution_count": 30,
   "metadata": {},
   "outputs": [],
   "source": [
    "df_list = []\n",
    "for i in range(len(dir_list)):\n",
    "    behav_dat = pd.read_csv(dir_list[i])\n",
    "    df_list.append(behav_dat)\n",
    "\n",
    "big_df = pd.concat(df_list,ignore_index=True)\n",
    "big_df= big_df[~(big_df.participant.isin([3,14,20]))]"
   ]
  },
  {
   "cell_type": "code",
   "execution_count": null,
   "metadata": {},
   "outputs": [],
   "source": [
    "\"\"\"\n",
    "Counting the amount of raw events\n",
    "\"\"\"\n",
    "sub_list = big_df['participant'].unique() \n",
    "# Step 1: Group by subject, attention, and expectation, and count rows\n",
    "df_repeated = big_df.loc[np.repeat(big_df.index, 4)].reset_index(drop=True)\n",
    "df_to_count = df_repeated[~(df_repeated.participant.isin([3,14,20]))]\n",
    "grouped = df_to_count.groupby(['participant', 'attention', 'expected']).size().reset_index(name='row_count')\n",
    "\n",
    "# Step 3: Group by attention and expectation, and calculate the mean and standard deviation\n",
    "stats_per_condition = grouped.groupby(['attention', 'expected'])['row_count'].agg(['mean', 'std']).reset_index()\n"
   ]
  },
  {
   "cell_type": "code",
   "execution_count": 43,
   "metadata": {},
   "outputs": [],
   "source": [
    "def calculate_subtraction(row):\n",
    "    if row['catch_trial'] != 0:\n",
    "        relevant_timepoint_col = f\"t_stim_{row['catch_trial']}\"\n",
    "        rt =  row['press_time'] - row[relevant_timepoint_col] - 400\n",
    "        if rt > 3200:\n",
    "            return np.nan\n",
    "        return rt\n",
    "# Apply the function to create the subtraction column\n",
    "big_df['rt'] = big_df.apply(calculate_subtraction, axis=1)"
   ]
  },
  {
   "cell_type": "code",
   "execution_count": null,
   "metadata": {},
   "outputs": [],
   "source": []
  },
  {
   "cell_type": "code",
   "execution_count": 25,
   "metadata": {},
   "outputs": [
    {
     "data": {
      "text/html": [
       "<svg  width=\"440\" height=\"55\"><rect x=\"0\" y=\"0\" width=\"55\" height=\"55\" style=\"fill:#db5f57;stroke-width:2;stroke:rgb(255,255,255)\"/><rect x=\"55\" y=\"0\" width=\"55\" height=\"55\" style=\"fill:#dbc257;stroke-width:2;stroke:rgb(255,255,255)\"/><rect x=\"110\" y=\"0\" width=\"55\" height=\"55\" style=\"fill:#91db57;stroke-width:2;stroke:rgb(255,255,255)\"/><rect x=\"165\" y=\"0\" width=\"55\" height=\"55\" style=\"fill:#57db80;stroke-width:2;stroke:rgb(255,255,255)\"/><rect x=\"220\" y=\"0\" width=\"55\" height=\"55\" style=\"fill:#57d3db;stroke-width:2;stroke:rgb(255,255,255)\"/><rect x=\"275\" y=\"0\" width=\"55\" height=\"55\" style=\"fill:#5770db;stroke-width:2;stroke:rgb(255,255,255)\"/><rect x=\"330\" y=\"0\" width=\"55\" height=\"55\" style=\"fill:#a157db;stroke-width:2;stroke:rgb(255,255,255)\"/><rect x=\"385\" y=\"0\" width=\"55\" height=\"55\" style=\"fill:#db57b2;stroke-width:2;stroke:rgb(255,255,255)\"/></svg>"
      ],
      "text/plain": [
       "['#db5f57',\n",
       " '#dbc257',\n",
       " '#91db57',\n",
       " '#57db80',\n",
       " '#57d3db',\n",
       " '#5770db',\n",
       " '#a157db',\n",
       " '#db57b2']"
      ]
     },
     "execution_count": 25,
     "metadata": {},
     "output_type": "execute_result"
    }
   ],
   "source": [
    "\"\"\"\n",
    "***Aestetics***\n",
    "\"\"\"\n",
    "# load color palette\n",
    "my_palette = sns.color_palette().as_hex()\n",
    "my_palette1 = sns.color_palette(\"hls\",8).as_hex()\n",
    "sns.color_palette(\"hls\",8).as_hex()\n"
   ]
  },
  {
   "cell_type": "code",
   "execution_count": 32,
   "metadata": {},
   "outputs": [],
   "source": [
    "# Load peak properties of localiser data\n",
    "peak_properties = pd.read_csv(r'C:\\Users\\mvmigem\\Documents\\data\\project_1\\compiled_dataframes\\c1_peak_properties.csv')\n",
    "peak_properties = peak_properties[~(peak_properties.subject.isin([3,14,20]))]\n",
    "peakch_n =peak_properties['all_pos_peak_channel'].value_counts()\n"
   ]
  },
  {
   "cell_type": "code",
   "execution_count": 34,
   "metadata": {},
   "outputs": [
    {
     "name": "stderr",
     "output_type": "stream",
     "text": [
      "C:\\Users\\mvmigem\\AppData\\Local\\Temp\\ipykernel_7324\\2864271155.py:9: FutureWarning: \n",
      "\n",
      "Passing `palette` without assigning `hue` is deprecated and will be removed in v0.14.0. Assign the `x` variable to `hue` and set `legend=False` for the same effect.\n",
      "\n",
      "  sns.barplot( subject_loc_quad, palette= line_colours2, ax=axes[0])\n",
      "C:\\Users\\mvmigem\\AppData\\Local\\Temp\\ipykernel_7324\\2864271155.py:10: FutureWarning: \n",
      "\n",
      "Passing `palette` without assigning `hue` is deprecated and will be removed in v0.14.0. Assign the `x` variable to `hue` and set `legend=False` for the same effect.\n",
      "\n",
      "  sns.barplot( peakch_n, palette= my_palette1,ax=axes[1])\n",
      "C:\\Users\\mvmigem\\AppData\\Local\\Temp\\ipykernel_7324\\2864271155.py:10: UserWarning: The palette list has more values (8) than needed (6), which may not be intended.\n",
      "  sns.barplot( peakch_n, palette= my_palette1,ax=axes[1])\n",
      "C:\\Users\\mvmigem\\AppData\\Local\\Temp\\ipykernel_7324\\2864271155.py:17: UserWarning: set_ticklabels() should only be used with a fixed number of ticks, i.e. after set_ticks() or using a FixedLocator.\n",
      "  axes[0].set_xticklabels(tick_labels, fontdict={'family': 'Segoe UI','size':14})\n"
     ]
    }
   ],
   "source": [
    "subject_loc_quad = big_df.groupby('participant')['loc_quad'].first().value_counts()\n",
    "\n",
    "fig, axes = plt.subplots(2,1,figsize=(7, 10),sharey=True,sharex=False)\n",
    "sns.set_context(\"paper\")\n",
    "\n",
    "# line_colours1= ['#219EBC','#FFB703']['#8ECAE6','#FB8500','#219EBC','#FFB703']\n",
    "line_colours2 = line_colours = [my_palette[0],my_palette[2],my_palette[1],my_palette[3]]\n",
    "\n",
    "sns.barplot( subject_loc_quad, palette= line_colours2, ax=axes[0])\n",
    "sns.barplot( peakch_n, palette= my_palette1,ax=axes[1])\n",
    "tick_labels = ['Top left', 'Top right', 'Bottom right','Bottom left']  # Replace ... with additional labels\n",
    "\n",
    "axes[0].axhline(y=0, lw=1, c='black' )\n",
    "axes[0].axhline(y=0, lw=1, c='black' )\n",
    "axes[0].set_ylabel('N Participants', fontdict={'family': 'Segoe UI', 'weight': 'semibold','size':18})\n",
    "axes[0].set_xlabel('Optimal quadrant', fontdict={'family': 'Segoe UI', 'weight': 'semibold','size':18})\n",
    "axes[0].set_xticklabels(tick_labels, fontdict={'family': 'Segoe UI','size':14})\n",
    "\n",
    "axes[1].set_ylabel('N Participants', fontdict={'family': 'Segoe UI', 'weight': 'semibold','size':18})\n",
    "axes[1].set_xlabel('Selected electrode', fontdict={'family': 'Segoe UI', 'weight': 'semibold','size':18})\n",
    "# axes[1].set_xticklabels(tick_labels, fontdict={'family': 'Segoe UI','size':14})\n",
    "\n",
    "axes[0].tick_params(axis='x', labelsize=16)  # Font size for x-axis numbers\n",
    "axes[0].tick_params(axis='y', labelsize=16) \n",
    "\n",
    "# Change the size of the numbers on the axes\n",
    "axes[1].tick_params(axis='x', labelsize=16)  # Font size for x-axis numbers\n",
    "axes[1].tick_params(axis='y', labelsize=16) \n",
    "\n",
    "sns.despine(offset=10, trim=True)\n",
    "\n",
    "plt.tight_layout()\n",
    "plt.show()\n",
    "fig.savefig('fig_c1_main.png')\n",
    "plt.show()"
   ]
  },
  {
   "cell_type": "code",
   "execution_count": null,
   "metadata": {},
   "outputs": [],
   "source": [
    "palette=my_palette[:4]"
   ]
  },
  {
   "cell_type": "code",
   "execution_count": 44,
   "metadata": {},
   "outputs": [
    {
     "name": "stderr",
     "output_type": "stream",
     "text": [
      "C:\\Users\\mvmigem\\AppData\\Local\\Temp\\ipykernel_7324\\1530939721.py:1: FutureWarning: \n",
      "\n",
      "Passing `palette` without assigning `hue` is deprecated and will be removed in v0.14.0. Assign the `x` variable to `hue` and set `legend=False` for the same effect.\n",
      "\n",
      "  ax = sns.barplot(data= big_df, x='attention',y='rt',\n",
      "C:\\Users\\mvmigem\\AppData\\Local\\Temp\\ipykernel_7324\\1530939721.py:1: FutureWarning: \n",
      "\n",
      "The `errwidth` parameter is deprecated. And will be removed in v0.15.0. Pass `err_kws={'linewidth': 1.5}` instead.\n",
      "\n",
      "  ax = sns.barplot(data= big_df, x='attention',y='rt',\n"
     ]
    }
   ],
   "source": [
    "ax = sns.barplot(data= big_df, x='attention',y='rt',\n",
    "                 edgecolor= 'black', palette= [my_palette[4], my_palette[5]],\n",
    "                errorbar='se', errwidth= 1.5,\n",
    "                capsize=.1,width=.6, linewidth=0.7)"
   ]
  },
  {
   "cell_type": "code",
   "execution_count": 53,
   "metadata": {},
   "outputs": [],
   "source": [
    "sub_grouped = big_df.groupby(['participant','attention'])['rt'].mean()\n",
    "# sub_grouped = sub_grouped.transform(stats.zscore)\n",
    "sub_grouped = sub_grouped.unstack().reset_index()\n",
    "t_statistic, p_value = stats.ttest_rel(sub_grouped['attended'], sub_grouped['unattended'])"
   ]
  },
  {
   "cell_type": "code",
   "execution_count": 46,
   "metadata": {},
   "outputs": [
    {
     "name": "stderr",
     "output_type": "stream",
     "text": [
      "C:\\Users\\mvmigem\\AppData\\Local\\Temp\\ipykernel_7324\\871506653.py:1: FutureWarning: \n",
      "\n",
      "The `errwidth` parameter is deprecated. And will be removed in v0.15.0. Pass `err_kws={'linewidth': 1.5}` instead.\n",
      "\n",
      "  ax = sns.barplot(data= sub_grouped,\n"
     ]
    }
   ],
   "source": [
    "ax = sns.barplot(data= sub_grouped,\n",
    "                 edgecolor= 'black', palette= [my_palette[4], my_palette[5]],\n",
    "                errorbar='se', errwidth= 1.5,\n",
    "                capsize=.1,width=.6, linewidth=0.7)"
   ]
  },
  {
   "cell_type": "code",
   "execution_count": null,
   "metadata": {},
   "outputs": [
    {
     "name": "stdout",
     "output_type": "stream",
     "text": [
      "Long Format DataFrame:\n",
      "    participant   attention           rt\n",
      "0             1    attended   370.063885\n",
      "1             2    attended   873.307282\n",
      "2             4    attended   392.930177\n",
      "3             5    attended   420.788092\n",
      "4             6    attended   801.167258\n",
      "5             7    attended   785.650477\n",
      "6             8    attended  1084.494500\n",
      "7             9    attended   839.492913\n",
      "8            10    attended   357.494877\n",
      "9            11    attended   415.302510\n",
      "10           12    attended   514.057962\n",
      "11           13    attended   646.412933\n",
      "12           15    attended   377.689127\n",
      "13           16    attended   477.438954\n",
      "14           17    attended   492.165133\n",
      "15           18    attended   518.368300\n",
      "16           19    attended   540.586267\n",
      "17           21    attended   489.839885\n",
      "18           22    attended   566.556546\n",
      "19           23    attended   385.476808\n",
      "20           24    attended   401.765046\n",
      "21           25    attended   623.865833\n",
      "22           26    attended   484.435646\n",
      "23            1  unattended   384.891185\n",
      "24            2  unattended   992.970850\n",
      "25            4  unattended   374.615769\n",
      "26            5  unattended   492.128733\n",
      "27            6  unattended   559.213842\n",
      "28            7  unattended   619.964136\n",
      "29            8  unattended   835.979591\n",
      "30            9  unattended   480.116585\n",
      "31           10  unattended   366.582131\n",
      "32           11  unattended   425.207031\n",
      "33           12  unattended   500.755138\n",
      "34           13  unattended   545.080469\n",
      "35           15  unattended   428.765300\n",
      "36           16  unattended   655.452138\n",
      "37           17  unattended   703.963477\n",
      "38           18  unattended   631.239530\n",
      "39           19  unattended   534.091292\n",
      "40           21  unattended   378.228515\n",
      "41           22  unattended   485.814162\n",
      "42           23  unattended   402.760383\n",
      "43           24  unattended   456.111450\n",
      "44           25  unattended   478.666058\n",
      "45           26  unattended   380.060269\n"
     ]
    }
   ],
   "source": [
    "# transform for analysis\n",
    "# Convert to long format\n",
    "long_df = pd.melt(\n",
    "    sub_grouped,\n",
    "    id_vars=['participant'],  # Columns to keep as identifiers\n",
    "    value_vars=['attended','unattended'],  # Columns to melt\n",
    "    var_name='attention',  # Name for the new column that will store the condition names\n",
    "    value_name='rt'  # Name for the new column that will store the values\n",
    ")"
   ]
  },
  {
   "cell_type": "code",
   "execution_count": 55,
   "metadata": {},
   "outputs": [],
   "source": [
    "destination_folder = r\"C:\\Users\\mvmigem\\Documents\\data\\project_1\\compiled_dataframes/\"\n",
    "long_df.to_csv(destination_folder + \"behaviour.csv\")"
   ]
  },
  {
   "cell_type": "code",
   "execution_count": null,
   "metadata": {},
   "outputs": [],
   "source": [
    "excuded_pp = [3,14,20]\n",
    "pp_info = big_df.groupby('participant').first().reset_index()\n",
    "pp_info = pp_info[~pp_info['participant'].isin(excuded_pp)]\n",
    "\n"
   ]
  },
  {
   "cell_type": "code",
   "execution_count": null,
   "metadata": {},
   "outputs": [],
   "source": [
    "pp_info['handed'].value_counts()"
   ]
  },
  {
   "cell_type": "code",
   "execution_count": null,
   "metadata": {},
   "outputs": [],
   "source": [
    "\"\"\" \n",
    "Ugh accuracies\n",
    "\"\"\"\n"
   ]
  },
  {
   "cell_type": "code",
   "execution_count": 57,
   "metadata": {},
   "outputs": [
    {
     "data": {
      "text/plain": [
       "0.00623221902513645"
      ]
     },
     "execution_count": 57,
     "metadata": {},
     "output_type": "execute_result"
    }
   ],
   "source": [
    "peak_properties['all_pos_peak_latency'].std()"
   ]
  },
  {
   "cell_type": "code",
   "execution_count": null,
   "metadata": {},
   "outputs": [],
   "source": []
  }
 ],
 "metadata": {
  "kernelspec": {
   "display_name": "mne",
   "language": "python",
   "name": "python3"
  },
  "language_info": {
   "codemirror_mode": {
    "name": "ipython",
    "version": 3
   },
   "file_extension": ".py",
   "mimetype": "text/x-python",
   "name": "python",
   "nbconvert_exporter": "python",
   "pygments_lexer": "ipython3",
   "version": "3.9.18"
  }
 },
 "nbformat": 4,
 "nbformat_minor": 2
}
