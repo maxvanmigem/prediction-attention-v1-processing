{
 "cells": [
  {
   "cell_type": "code",
   "execution_count": 58,
   "metadata": {},
   "outputs": [],
   "source": [
    "import os, glob\n",
    "import numpy as np\n",
    "import pandas as pd\n",
    "import seaborn as sns\n",
    "from matplotlib import pyplot as plt\n",
    "from scipy import stats\n",
    "%matplotlib qt"
   ]
  },
  {
   "cell_type": "code",
   "execution_count": 59,
   "metadata": {},
   "outputs": [],
   "source": [
    "# Import data file\n",
    "data_directory = 'C:/Users/mvmigem/Documents/data/project_1/raw_data/'\n",
    "dir_list = glob.glob(data_directory+'sub_*/behav/*.csv')\n"
   ]
  },
  {
   "cell_type": "code",
   "execution_count": 60,
   "metadata": {},
   "outputs": [],
   "source": [
    "df_list = []\n",
    "for i in range(len(dir_list)):\n",
    "    behav_dat = pd.read_csv(dir_list[i])\n",
    "    df_list.append(behav_dat)\n",
    "\n",
    "big_df = pd.concat(df_list,ignore_index=True)"
   ]
  },
  {
   "cell_type": "code",
   "execution_count": 15,
   "metadata": {},
   "outputs": [],
   "source": [
    "\"\"\"\n",
    "Counting the amount of raw events\n",
    "\"\"\"\n",
    "sub_list = big_df['participant'].unique() \n",
    "# Step 1: Group by subject, attention, and expectation, and count rows\n",
    "df_repeated = big_df.loc[np.repeat(big_df.index, 4)].reset_index(drop=True)\n",
    "df_to_count = df_repeated[~(df_repeated.participant.isin([3,7,20]))]\n",
    "grouped = df_to_count.groupby(['participant', 'attention', 'expected']).size().reset_index(name='row_count')\n",
    "\n",
    "# Step 3: Group by attention and expectation, and calculate the mean and standard deviation\n",
    "stats_per_condition = grouped.groupby(['attention', 'expected'])['row_count'].agg(['mean', 'std']).reset_index()\n"
   ]
  },
  {
   "cell_type": "code",
   "execution_count": 63,
   "metadata": {},
   "outputs": [],
   "source": [
    "def calculate_subtraction(row):\n",
    "    if row['catch_trial'] != 0:\n",
    "        relevant_timepoint_col = f\"t_stim_{row['catch_trial']}\"\n",
    "        rt =  row['press_time'] - row[relevant_timepoint_col] - 300\n",
    "        if rt > 3200:\n",
    "            return np.nan\n",
    "        return rt\n",
    "# Apply the function to create the subtraction column\n",
    "big_df['rt'] = big_df.apply(calculate_subtraction, axis=1)"
   ]
  },
  {
   "cell_type": "code",
   "execution_count": 5,
   "metadata": {},
   "outputs": [
    {
     "data": {
      "text/html": [
       "<svg  width=\"550\" height=\"55\"><rect x=\"0\" y=\"0\" width=\"55\" height=\"55\" style=\"fill:#1f77b4;stroke-width:2;stroke:rgb(255,255,255)\"/><rect x=\"55\" y=\"0\" width=\"55\" height=\"55\" style=\"fill:#ff7f0e;stroke-width:2;stroke:rgb(255,255,255)\"/><rect x=\"110\" y=\"0\" width=\"55\" height=\"55\" style=\"fill:#2ca02c;stroke-width:2;stroke:rgb(255,255,255)\"/><rect x=\"165\" y=\"0\" width=\"55\" height=\"55\" style=\"fill:#d62728;stroke-width:2;stroke:rgb(255,255,255)\"/><rect x=\"220\" y=\"0\" width=\"55\" height=\"55\" style=\"fill:#9467bd;stroke-width:2;stroke:rgb(255,255,255)\"/><rect x=\"275\" y=\"0\" width=\"55\" height=\"55\" style=\"fill:#8c564b;stroke-width:2;stroke:rgb(255,255,255)\"/><rect x=\"330\" y=\"0\" width=\"55\" height=\"55\" style=\"fill:#e377c2;stroke-width:2;stroke:rgb(255,255,255)\"/><rect x=\"385\" y=\"0\" width=\"55\" height=\"55\" style=\"fill:#7f7f7f;stroke-width:2;stroke:rgb(255,255,255)\"/><rect x=\"440\" y=\"0\" width=\"55\" height=\"55\" style=\"fill:#bcbd22;stroke-width:2;stroke:rgb(255,255,255)\"/><rect x=\"495\" y=\"0\" width=\"55\" height=\"55\" style=\"fill:#17becf;stroke-width:2;stroke:rgb(255,255,255)\"/></svg>"
      ],
      "text/plain": [
       "['#1f77b4',\n",
       " '#ff7f0e',\n",
       " '#2ca02c',\n",
       " '#d62728',\n",
       " '#9467bd',\n",
       " '#8c564b',\n",
       " '#e377c2',\n",
       " '#7f7f7f',\n",
       " '#bcbd22',\n",
       " '#17becf']"
      ]
     },
     "execution_count": 5,
     "metadata": {},
     "output_type": "execute_result"
    }
   ],
   "source": [
    "\"\"\"\n",
    "***Aestetics***\n",
    "\"\"\"\n",
    "# load color palette\n",
    "my_palette = sns.color_palette().as_hex()\n",
    "sns.color_palette().as_hex()\n"
   ]
  },
  {
   "cell_type": "code",
   "execution_count": 64,
   "metadata": {},
   "outputs": [],
   "source": [
    "# Load peak properties of localiser data\n",
    "peak_properties = pd.read_csv(r'C:\\Users\\mvmigem\\Documents\\data\\project_1\\compiled_dataframes\\c1_peak_properties.csv')\n",
    "peakch_n =peak_properties['all_pos_peak_channel'].value_counts()"
   ]
  },
  {
   "cell_type": "code",
   "execution_count": 65,
   "metadata": {},
   "outputs": [
    {
     "name": "stderr",
     "output_type": "stream",
     "text": [
      "C:\\Users\\mvmigem\\AppData\\Local\\Temp\\ipykernel_8568\\1360097480.py:9: FutureWarning: \n",
      "\n",
      "Passing `palette` without assigning `hue` is deprecated and will be removed in v0.14.0. Assign the `x` variable to `hue` and set `legend=False` for the same effect.\n",
      "\n",
      "  sns.barplot( subject_loc_quad, palette= line_colours2, ax=axes[0])\n",
      "C:\\Users\\mvmigem\\AppData\\Local\\Temp\\ipykernel_8568\\1360097480.py:10: FutureWarning: \n",
      "\n",
      "Passing `palette` without assigning `hue` is deprecated and will be removed in v0.14.0. Assign the `x` variable to `hue` and set `legend=False` for the same effect.\n",
      "\n",
      "  sns.barplot( peakch_n, palette= my_palette,ax=axes[1])\n",
      "C:\\Users\\mvmigem\\AppData\\Local\\Temp\\ipykernel_8568\\1360097480.py:10: UserWarning: The palette list has more values (10) than needed (7), which may not be intended.\n",
      "  sns.barplot( peakch_n, palette= my_palette,ax=axes[1])\n",
      "C:\\Users\\mvmigem\\AppData\\Local\\Temp\\ipykernel_8568\\1360097480.py:17: UserWarning: set_ticklabels() should only be used with a fixed number of ticks, i.e. after set_ticks() or using a FixedLocator.\n",
      "  axes[0].set_xticklabels(tick_labels, fontdict={'family': 'Segoe UI','size':18})\n"
     ]
    }
   ],
   "source": [
    "subject_loc_quad = big_df.groupby('participant')['loc_quad'].first().value_counts()\n",
    "\n",
    "fig, axes = plt.subplots(2,1,figsize=(10, 8),sharey=True,sharex=False)\n",
    "sns.set_context(\"paper\")\n",
    "\n",
    "line_colours1= ['#219EBC','#FFB703']\n",
    "line_colours2 = ['#8ECAE6','#FB8500','#219EBC','#FFB703']\n",
    "\n",
    "sns.barplot( subject_loc_quad, palette= line_colours2, ax=axes[0])\n",
    "sns.barplot( peakch_n, palette= my_palette,ax=axes[1])\n",
    "tick_labels = ['top left', 'top right', 'bottom right','bottom left']  # Replace ... with additional labels\n",
    "\n",
    "axes[0].axhline(y=0, lw=1, c='black' )\n",
    "axes[0].axhline(y=0, lw=1, c='black' )\n",
    "axes[0].set_ylabel('N participants', fontdict={'family': 'Segoe UI', 'weight': 'semibold','size':26})\n",
    "axes[0].set_xlabel('Optimal quadrant', fontdict={'family': 'Segoe UI', 'weight': 'semibold','size':26})\n",
    "axes[0].set_xticklabels(tick_labels, fontdict={'family': 'Segoe UI','size':18})\n",
    "\n",
    "axes[1].set_ylabel('N participants', fontdict={'family': 'Segoe UI', 'weight': 'semibold','size':26})\n",
    "axes[1].set_xlabel('Selected electrode', fontdict={'family': 'Segoe UI', 'weight': 'semibold','size':26})\n",
    "# axes[1].set_xticklabels(tick_labels, fontdict={'family': 'Segoe UI','size':20})\n",
    "\n",
    "axes[0].tick_params(axis='x', labelsize=20)  # Font size for x-axis numbers\n",
    "axes[0].tick_params(axis='y', labelsize=20) \n",
    "\n",
    "# Change the size of the numbers on the axes\n",
    "axes[1].tick_params(axis='x', labelsize=20)  # Font size for x-axis numbers\n",
    "axes[1].tick_params(axis='y', labelsize=20) \n",
    "\n",
    "sns.despine(offset=10, trim=True)\n",
    "\n",
    "plt.tight_layout()\n",
    "plt.show()\n",
    "fig.savefig('fig_c1_main.png')\n",
    "plt.show()"
   ]
  },
  {
   "cell_type": "code",
   "execution_count": null,
   "metadata": {},
   "outputs": [],
   "source": [
    "palette=my_palette[:4]"
   ]
  },
  {
   "cell_type": "code",
   "execution_count": 66,
   "metadata": {},
   "outputs": [
    {
     "name": "stderr",
     "output_type": "stream",
     "text": [
      "C:\\Users\\mvmigem\\AppData\\Local\\Temp\\ipykernel_8568\\1367482822.py:1: FutureWarning: \n",
      "\n",
      "Passing `palette` without assigning `hue` is deprecated and will be removed in v0.14.0. Assign the `x` variable to `hue` and set `legend=False` for the same effect.\n",
      "\n",
      "  ax = sns.barplot(data= big_df, x='attention',y='rt',\n",
      "C:\\Users\\mvmigem\\AppData\\Local\\Temp\\ipykernel_8568\\1367482822.py:1: FutureWarning: \n",
      "\n",
      "The `errwidth` parameter is deprecated. And will be removed in v0.15.0. Pass `err_kws={'linewidth': 1.5}` instead.\n",
      "\n",
      "  ax = sns.barplot(data= big_df, x='attention',y='rt',\n"
     ]
    }
   ],
   "source": [
    "ax = sns.barplot(data= big_df, x='attention',y='rt',\n",
    "                 edgecolor= 'black', palette= [my_palette[4], my_palette[5]],\n",
    "                errorbar='se', errwidth= 1.5,\n",
    "                capsize=.1,width=.6, linewidth=0.7)"
   ]
  },
  {
   "cell_type": "code",
   "execution_count": 8,
   "metadata": {},
   "outputs": [],
   "source": [
    "sub_grouped = big_df.groupby(['participant','attention'])['rt'].mean()\n",
    "sub_grouped = sub_grouped.unstack()\n",
    "t_statistic, p_value = stats.ttest_rel(sub_grouped['attended'], sub_grouped['unattended'])"
   ]
  },
  {
   "cell_type": "code",
   "execution_count": null,
   "metadata": {},
   "outputs": [],
   "source": [
    "ax = sns.barplot(data= sub_grouped,\n",
    "                 edgecolor= 'black', palette= [my_palette[4], my_palette[5]],\n",
    "                errorbar='se', errwidth= 1.5,\n",
    "                capsize=.1,width=.6, linewidth=0.7)"
   ]
  },
  {
   "cell_type": "code",
   "execution_count": null,
   "metadata": {},
   "outputs": [],
   "source": [
    "excuded_pp = [3,14,20]\n",
    "pp_info = big_df.groupby('participant').first().reset_index()\n",
    "pp_info = pp_info[~pp_info['participant'].isin(excuded_pp)]\n",
    "\n"
   ]
  },
  {
   "cell_type": "code",
   "execution_count": null,
   "metadata": {},
   "outputs": [],
   "source": [
    "pp_info['handed'].value_counts()"
   ]
  }
 ],
 "metadata": {
  "kernelspec": {
   "display_name": "mne",
   "language": "python",
   "name": "python3"
  },
  "language_info": {
   "codemirror_mode": {
    "name": "ipython",
    "version": 3
   },
   "file_extension": ".py",
   "mimetype": "text/x-python",
   "name": "python",
   "nbconvert_exporter": "python",
   "pygments_lexer": "ipython3",
   "version": "3.9.18"
  }
 },
 "nbformat": 4,
 "nbformat_minor": 2
}
