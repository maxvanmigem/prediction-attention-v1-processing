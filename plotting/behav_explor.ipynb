{
 "cells": [
  {
   "cell_type": "code",
   "execution_count": 1,
   "metadata": {},
   "outputs": [],
   "source": [
    "import os, glob\n",
    "import numpy as np\n",
    "import pandas as pd\n",
    "import seaborn as sns\n",
    "from matplotlib import pyplot as plt\n",
    "from scipy import stats\n"
   ]
  },
  {
   "cell_type": "code",
   "execution_count": 2,
   "metadata": {},
   "outputs": [],
   "source": [
    "# Import data file\n",
    "data_directory = 'C:/Users/mvmigem/Documents/data/project_1/raw_data/'\n",
    "dir_list = glob.glob(data_directory+'sub_*/behav/*.csv')\n"
   ]
  },
  {
   "cell_type": "code",
   "execution_count": 25,
   "metadata": {},
   "outputs": [],
   "source": [
    "df_list = []\n",
    "for i in range(len(dir_list)):\n",
    "    behav_dat = pd.read_csv(dir_list[i])\n",
    "    df_list.append(behav_dat)\n",
    "\n",
    "big_df = pd.concat(df_list,ignore_index=True)\n",
    "big_df= big_df[~(big_df.participant.isin([3,14,20]))]"
   ]
  },
  {
   "cell_type": "code",
   "execution_count": 4,
   "metadata": {},
   "outputs": [],
   "source": [
    "\"\"\"\n",
    "Counting the amount of raw events\n",
    "\"\"\"\n",
    "sub_list = big_df['participant'].unique() \n",
    "# Step 1: Group by subject, attention, and expectation, and count rows\n",
    "df_repeated = big_df.loc[np.repeat(big_df.index, 4)].reset_index(drop=True)\n",
    "df_to_count = df_repeated[~(df_repeated.participant.isin([3,14,20]))]\n",
    "grouped = df_to_count.groupby(['participant', 'attention', 'expected']).size().reset_index(name='row_count')\n",
    "\n",
    "# Step 3: Group by attention and expectation, and calculate the mean and standard deviation\n",
    "stats_per_condition = grouped.groupby(['attention', 'expected'])['row_count'].agg(['mean', 'std']).reset_index()\n"
   ]
  },
  {
   "cell_type": "code",
   "execution_count": null,
   "metadata": {},
   "outputs": [],
   "source": [
    "\"\"\"  \n",
    "Add reaction time and accuracy variables from base date\n",
    "\"\"\"\n",
    "# add rt and accuracy meassures\n",
    "def calculate_subtraction(row):\n",
    "    if row['catch_trial'] != 0:\n",
    "        relevant_timepoint_col = f\"t_stim_{row['catch_trial']}\"\n",
    "        rt =  row['press_time'] - row[relevant_timepoint_col] - 300 # correct for eye-tracking condition delay\n",
    "        if rt > 3200:\n",
    "            return np.nan\n",
    "        return rt\n",
    "# Apply the function to create the subtraction column\n",
    "big_df['rt'] = big_df.apply(calculate_subtraction, axis=1)\n",
    "\n",
    "def accuracy_calc(row):\n",
    "    if row['catch_trial'] !=0:\n",
    "        if row['key_pressed'] == 'space':\n",
    "            if (row['rt'] >= 0) & (row['rt'] <= 1000):\n",
    "                return 'hit'\n",
    "            elif row['rt'] < 0:\n",
    "                return 'false_fire'\n",
    "            elif row['rt'] > 1000:\n",
    "                return 'too_slow'\n",
    "        else:\n",
    "            return 'false_fire'\n",
    "    else:\n",
    "        if row['key_pressed'] == 'space':\n",
    "            return 'miss'\n",
    "    return 'correct'\n",
    "\n",
    "big_df['accuracy'] = big_df.apply(accuracy_calc, axis=1)\n",
    "\n",
    "# false fire correction for example when response comes in next trial\n",
    "count_changes = []\n",
    "for i in range(len(big_df) - 1):\n",
    "    current_row = big_df.iloc[i]\n",
    "    next_row = big_df.iloc[i + 1]\n",
    "    \n",
    "    if current_row['accuracy'] == 'miss' and next_row['accuracy'] == 'false_fire':\n",
    "        # Modify current row's accuracy\n",
    "        big_df.at[i, 'accuracy'] = 'too_slow'\n",
    "        # Modify next row's accuracy\n",
    "        big_df.at[i + 1, 'accuracy'] = 'correct'\n",
    "        count_changes.append(i)\n"
   ]
  },
  {
   "cell_type": "code",
   "execution_count": 24,
   "metadata": {},
   "outputs": [
    {
     "data": {
      "text/html": [
       "<svg  width=\"330\" height=\"55\"><rect x=\"0\" y=\"0\" width=\"55\" height=\"55\" style=\"fill:#2e1e3b;stroke-width:2;stroke:rgb(255,255,255)\"/><rect x=\"55\" y=\"0\" width=\"55\" height=\"55\" style=\"fill:#413d7b;stroke-width:2;stroke:rgb(255,255,255)\"/><rect x=\"110\" y=\"0\" width=\"55\" height=\"55\" style=\"fill:#37659e;stroke-width:2;stroke:rgb(255,255,255)\"/><rect x=\"165\" y=\"0\" width=\"55\" height=\"55\" style=\"fill:#348fa7;stroke-width:2;stroke:rgb(255,255,255)\"/><rect x=\"220\" y=\"0\" width=\"55\" height=\"55\" style=\"fill:#40b7ad;stroke-width:2;stroke:rgb(255,255,255)\"/><rect x=\"275\" y=\"0\" width=\"55\" height=\"55\" style=\"fill:#8bdab2;stroke-width:2;stroke:rgb(255,255,255)\"/></svg>"
      ],
      "text/plain": [
       "[(0.18195582, 0.11955283, 0.23136943),\n",
       " (0.25307401, 0.23772973, 0.48316271),\n",
       " (0.21607792, 0.39736958, 0.61948028),\n",
       " (0.20344718, 0.56074869, 0.65649508),\n",
       " (0.25187832, 0.71827158, 0.67872193),\n",
       " (0.54578602, 0.8544913, 0.69848331)]"
      ]
     },
     "execution_count": 24,
     "metadata": {},
     "output_type": "execute_result"
    }
   ],
   "source": [
    "\"\"\"\n",
    "***Aestetics***\n",
    "\"\"\"\n",
    "# load color palette\n",
    "my_palette = sns.color_palette().as_hex()\n",
    "my_palette1 = sns.color_palette(\"mako\")\n",
    "my_palette1\n"
   ]
  },
  {
   "cell_type": "code",
   "execution_count": 6,
   "metadata": {},
   "outputs": [],
   "source": [
    "# Load peak properties of localiser data\n",
    "peak_properties = pd.read_csv(r'C:\\Users\\mvmigem\\Documents\\data\\project_1\\compiled_dataframes\\c1_peak_properties.csv')\n",
    "peak_properties = peak_properties[~(peak_properties.subject.isin([3,14,20]))]\n",
    "peakch_n =peak_properties['all_pos_peak_channel'].value_counts()\n"
   ]
  },
  {
   "cell_type": "code",
   "execution_count": 25,
   "metadata": {},
   "outputs": [
    {
     "name": "stderr",
     "output_type": "stream",
     "text": [
      "C:\\Users\\mvmigem\\AppData\\Local\\Temp\\ipykernel_27068\\2864271155.py:9: FutureWarning: \n",
      "\n",
      "Passing `palette` without assigning `hue` is deprecated and will be removed in v0.14.0. Assign the `x` variable to `hue` and set `legend=False` for the same effect.\n",
      "\n",
      "  sns.barplot( subject_loc_quad, palette= line_colours2, ax=axes[0])\n",
      "C:\\Users\\mvmigem\\AppData\\Local\\Temp\\ipykernel_27068\\2864271155.py:10: FutureWarning: \n",
      "\n",
      "Passing `palette` without assigning `hue` is deprecated and will be removed in v0.14.0. Assign the `x` variable to `hue` and set `legend=False` for the same effect.\n",
      "\n",
      "  sns.barplot( peakch_n, palette= my_palette1,ax=axes[1])\n",
      "C:\\Users\\mvmigem\\AppData\\Local\\Temp\\ipykernel_27068\\2864271155.py:17: UserWarning: set_ticklabels() should only be used with a fixed number of ticks, i.e. after set_ticks() or using a FixedLocator.\n",
      "  axes[0].set_xticklabels(tick_labels, fontdict={'family': 'Segoe UI','size':14})\n"
     ]
    },
    {
     "data": {
      "image/png": "[encoded data removed]",
      "text/plain": [
       "<Figure size 700x1000 with 2 Axes>"
      ]
     },
     "metadata": {},
     "output_type": "display_data"
    }
   ],
   "source": [
    "subject_loc_quad = big_df.groupby('participant')['loc_quad'].first().value_counts()\n",
    "\n",
    "fig, axes = plt.subplots(2,1,figsize=(7, 10),sharey=True,sharex=False)\n",
    "sns.set_context(\"paper\")\n",
    "\n",
    "# line_colours1= ['#219EBC','#FFB703']['#8ECAE6','#FB8500','#219EBC','#FFB703']\n",
    "line_colours2 = line_colours = [my_palette[0],my_palette[2],my_palette[1],my_palette[3]]\n",
    "\n",
    "sns.barplot( subject_loc_quad, palette= line_colours2, ax=axes[0])\n",
    "sns.barplot( peakch_n, palette= my_palette1,ax=axes[1])\n",
    "tick_labels = ['Top left', 'Top right', 'Bottom right','Bottom left']  # Replace ... with additional labels\n",
    "\n",
    "axes[0].axhline(y=0, lw=1, c='black' )\n",
    "axes[0].axhline(y=0, lw=1, c='black' )\n",
    "axes[0].set_ylabel('N Participants', fontdict={'family': 'Segoe UI', 'weight': 'semibold','size':18})\n",
    "axes[0].set_xlabel('Optimal quadrant', fontdict={'family': 'Segoe UI', 'weight': 'semibold','size':18})\n",
    "axes[0].set_xticklabels(tick_labels, fontdict={'family': 'Segoe UI','size':14})\n",
    "\n",
    "axes[1].set_ylabel('N Participants', fontdict={'family': 'Segoe UI', 'weight': 'semibold','size':18})\n",
    "axes[1].set_xlabel('Selected electrode', fontdict={'family': 'Segoe UI', 'weight': 'semibold','size':18})\n",
    "# axes[1].set_xticklabels(tick_labels, fontdict={'family': 'Segoe UI','size':14})\n",
    "\n",
    "axes[0].tick_params(axis='x', labelsize=16)  # Font size for x-axis numbers\n",
    "axes[0].tick_params(axis='y', labelsize=16) \n",
    "\n",
    "# Change the size of the numbers on the axes\n",
    "axes[1].tick_params(axis='x', labelsize=16)  # Font size for x-axis numbers\n",
    "axes[1].tick_params(axis='y', labelsize=16) \n",
    "\n",
    "sns.despine(offset=10, trim=True)\n",
    "\n",
    "plt.tight_layout()\n",
    "plt.show()\n",
    "fig.savefig('fig_c1_main.png')\n",
    "plt.show()"
   ]
  },
  {
   "cell_type": "code",
   "execution_count": null,
   "metadata": {},
   "outputs": [],
   "source": [
    "palette=my_palette[:4]"
   ]
  },
  {
   "cell_type": "code",
   "execution_count": 21,
   "metadata": {},
   "outputs": [],
   "source": [
    "df_rt = big_df[big_df['catch_trial'] != 1]\n",
    "rt_results = df_rt.groupby(['participant','attention','expectation'])['rt'].mean().reset_index()"
   ]
  },
  {
   "cell_type": "code",
   "execution_count": 22,
   "metadata": {},
   "outputs": [
    {
     "name": "stderr",
     "output_type": "stream",
     "text": [
      "C:\\Users\\mvmigem\\AppData\\Local\\Temp\\ipykernel_4208\\1264380718.py:1: FutureWarning: \n",
      "\n",
      "The `errwidth` parameter is deprecated. And will be removed in v0.15.0. Pass `err_kws={'linewidth': 1.5}` instead.\n",
      "\n",
      "  ax = sns.barplot(data= rt_results, x='attention',y='rt',hue='expectation',\n"
     ]
    },
    {
     "data": {
      "image/png": "[encoded data removed]",
      "text/plain": [
       "<Figure size 640x480 with 1 Axes>"
      ]
     },
     "metadata": {},
     "output_type": "display_data"
    }
   ],
   "source": [
    "ax = sns.barplot(data= rt_results, x='attention',y='rt',hue='expectation',\n",
    "                 edgecolor= 'black',\n",
    "                errorbar='se', errwidth= 1.5,\n",
    "                capsize=.1,width=.6, linewidth=0.7)"
   ]
  },
  {
   "cell_type": "code",
   "execution_count": 7,
   "metadata": {},
   "outputs": [],
   "source": [
    "sub_grouped = big_df.groupby(['participant','attention'])['rt'].mean()\n",
    "# sub_grouped = sub_grouped.transform(stats.zscore)\n",
    "sub_grouped = sub_grouped.unstack().reset_index()\n",
    "t_statistic, p_value = stats.ttest_rel(sub_grouped['attended'], sub_grouped['unattended'])"
   ]
  },
  {
   "cell_type": "code",
   "execution_count": 16,
   "metadata": {},
   "outputs": [
    {
     "ename": "NameError",
     "evalue": "name 'sub_grouped' is not defined",
     "output_type": "error",
     "traceback": [
      "\u001b[1;31m---------------------------------------------------------------------------\u001b[0m",
      "\u001b[1;31mNameError\u001b[0m                                 Traceback (most recent call last)",
      "Cell \u001b[1;32mIn[16], line 4\u001b[0m\n\u001b[0;32m      1\u001b[0m \u001b[38;5;66;03m# transform for analysis\u001b[39;00m\n\u001b[0;32m      2\u001b[0m \u001b[38;5;66;03m# Convert to long format\u001b[39;00m\n\u001b[0;32m      3\u001b[0m long_df \u001b[38;5;241m=\u001b[39m pd\u001b[38;5;241m.\u001b[39mmelt(\n\u001b[1;32m----> 4\u001b[0m     \u001b[43msub_grouped\u001b[49m,\n\u001b[0;32m      5\u001b[0m     id_vars\u001b[38;5;241m=\u001b[39m[\u001b[38;5;124m'\u001b[39m\u001b[38;5;124mparticipant\u001b[39m\u001b[38;5;124m'\u001b[39m],  \u001b[38;5;66;03m# Columns to keep as identifiers\u001b[39;00m\n\u001b[0;32m      6\u001b[0m     value_vars\u001b[38;5;241m=\u001b[39m[\u001b[38;5;124m'\u001b[39m\u001b[38;5;124mattended\u001b[39m\u001b[38;5;124m'\u001b[39m,\u001b[38;5;124m'\u001b[39m\u001b[38;5;124munattended\u001b[39m\u001b[38;5;124m'\u001b[39m],  \u001b[38;5;66;03m# Columns to melt\u001b[39;00m\n\u001b[0;32m      7\u001b[0m     var_name\u001b[38;5;241m=\u001b[39m\u001b[38;5;124m'\u001b[39m\u001b[38;5;124mattention\u001b[39m\u001b[38;5;124m'\u001b[39m,  \u001b[38;5;66;03m# Name for the new column that will store the condition names\u001b[39;00m\n\u001b[0;32m      8\u001b[0m     value_name\u001b[38;5;241m=\u001b[39m\u001b[38;5;124m'\u001b[39m\u001b[38;5;124mrt\u001b[39m\u001b[38;5;124m'\u001b[39m  \u001b[38;5;66;03m# Name for the new column that will store the values\u001b[39;00m\n\u001b[0;32m      9\u001b[0m )\n",
      "\u001b[1;31mNameError\u001b[0m: name 'sub_grouped' is not defined"
     ]
    }
   ],
   "source": [
    "# transform for analysis\n",
    "# Convert to long format\n",
    "long_df = pd.melt(\n",
    "    sub_grouped,\n",
    "    id_vars=['participant'],  # Columns to keep as identifiers\n",
    "    value_vars=['attended','unattended'],  # Columns to melt\n",
    "    var_name='attention',  # Name for the new column that will store the condition names\n",
    "    value_name='rt'  # Name for the new column that will store the values\n",
    ")"
   ]
  },
  {
   "cell_type": "code",
   "execution_count": 9,
   "metadata": {},
   "outputs": [],
   "source": [
    "destination_folder = r\"C:\\Users\\mvmigem\\Documents\\data\\project_1\\compiled_dataframes/\"\n",
    "long_df.to_csv(destination_folder + \"behaviour_rt.csv\")"
   ]
  },
  {
   "cell_type": "code",
   "execution_count": 5,
   "metadata": {},
   "outputs": [
    {
     "name": "stderr",
     "output_type": "stream",
     "text": [
      "C:\\Users\\mvmigem\\AppData\\Local\\Temp\\ipykernel_4208\\1802231395.py:2: SettingWithCopyWarning: \n",
      "A value is trying to be set on a copy of a slice from a DataFrame.\n",
      "Try using .loc[row_indexer,col_indexer] = value instead\n",
      "\n",
      "See the caveats in the documentation: https://pandas.pydata.org/pandas-docs/stable/user_guide/indexing.html#returning-a-view-versus-a-copy\n",
      "  df_acc['is_correct'] = df_acc['accuracy'] == 'hit'\n"
     ]
    }
   ],
   "source": [
    "df_acc = big_df[big_df['accuracy'].isin(['hit','miss','too_slow'])]\n",
    "df_acc['is_correct'] = df_acc['accuracy'] == 'hit'\n",
    "df_acc_pred = df_acc[df_acc['catch_trial'] != 1]\n",
    "\n",
    "pred_accuracy = df_acc_pred.groupby(['participant','expected'])['is_correct'].mean()\n",
    "att_accuracy = df_acc.groupby(['participant','attention'])['is_correct'].mean()\n"
   ]
  },
  {
   "cell_type": "code",
   "execution_count": 29,
   "metadata": {},
   "outputs": [
    {
     "data": {
      "text/plain": [
       "0.860832585289107"
      ]
     },
     "execution_count": 29,
     "metadata": {},
     "output_type": "execute_result"
    }
   ],
   "source": [
    "pred_accuracy.mean()"
   ]
  },
  {
   "cell_type": "code",
   "execution_count": 22,
   "metadata": {},
   "outputs": [],
   "source": [
    "# sub_grouped = sub_grouped.transform(stats.zscore)\n",
    "sub_grouped = att_accuracy.unstack().reset_index()\n",
    "t_statistic, p_value = stats.ttest_rel(sub_grouped['attended'], sub_grouped['unattended'])"
   ]
  },
  {
   "cell_type": "code",
   "execution_count": 23,
   "metadata": {},
   "outputs": [],
   "source": [
    "# sub_grouped = sub_grouped.transform(stats.zscore)\n",
    "sub_grouped = pred_accuracy.unstack().reset_index()\n",
    "t_statistic, p_value = stats.ttest_rel(sub_grouped['regular'], sub_grouped['odd'])"
   ]
  },
  {
   "cell_type": "code",
   "execution_count": 11,
   "metadata": {},
   "outputs": [],
   "source": [
    "from scipy.stats import norm\n",
    "\n",
    "# Otherwise, infer signal/noise from accuracy:\n",
    "big_df['is_signal'] = big_df['accuracy'].isin(['hit', 'miss','too_slow'])  # Assume hits/misses = signal trials\n",
    "big_df['is_noise'] = big_df['accuracy'].isin(['false_fire', 'correct'])\n",
    "\n",
    "def calculate_dprime(group):\n",
    "    # Calculate Hit Rate (HR)\n",
    "    hits = (group['accuracy'] == 'hit').sum()\n",
    "    signal_trials = group['is_signal'].sum()\n",
    "    hr = (hits + 0.5) / (signal_trials + 1)\n",
    "    norm_hr = norm.ppf(hr)\n",
    "\n",
    "    # Calculate False Alarm Rate (FAR)\n",
    "    false_alarms = (group['accuracy'] == 'false_fire').sum()\n",
    "    noise_trials = group['is_noise'].sum()\n",
    "    far = (false_alarms + 0.5) / (noise_trials +1)\n",
    "    norm_far = norm.ppf(far)\n",
    "    \n",
    "    # Calculate d' (Z-scores) and beta \n",
    "    dprime = norm_hr - norm_far\n",
    "    beta = np.exp((norm_far**2 - norm_hr**2) / 2)\n",
    "\n",
    "    return pd.Series({\n",
    "        'hits': hits,\n",
    "        'misses': (group['accuracy'] == 'miss').sum(),\n",
    "        'too_slow': (group['accuracy'] == 'too_slow').sum(),\n",
    "        'false_alarms': false_alarms,\n",
    "        'signal_trials': signal_trials,\n",
    "        'noise_trials': noise_trials,\n",
    "        'hit_rate': hr,\n",
    "        'false_alarm_rate': far,\n",
    "        'dprime': dprime,\n",
    "        'beta':beta\n",
    "    })\n",
    "\n",
    "big_df = big_df.rename(columns={'expected': 'expectation'})\n",
    "\n",
    "df_acc_pred = big_df[big_df['catch_trial'] != 1]\n",
    "\n",
    "# Group by participant and condition, then apply d' calculation\n",
    "acc_results = df_acc_pred.groupby(['participant', 'expectation','attention']).apply(calculate_dprime).reset_index()\n",
    "acc_results = acc_results[acc_results['signal_trials'] > 0] # remove cells where no signal trials occured\n",
    "acc_aggr = df_acc_pred.groupby([ 'expectation','attention']).apply(calculate_dprime).reset_index()"
   ]
  },
  {
   "cell_type": "code",
   "execution_count": 10,
   "metadata": {},
   "outputs": [
    {
     "data": {
      "text/plain": [
       "0.852575961148066"
      ]
     },
     "execution_count": 10,
     "metadata": {},
     "output_type": "execute_result"
    }
   ],
   "source": [
    "acc_aggr['hit_rate'].mean()\n"
   ]
  },
  {
   "cell_type": "code",
   "execution_count": 13,
   "metadata": {},
   "outputs": [],
   "source": [
    "destination_folder = r\"C:\\Users\\mvmigem\\Documents\\data\\project_1\\compiled_dataframes/\"\n",
    "acc_results.to_csv(destination_folder + \"behaviour_acc.csv\")"
   ]
  },
  {
   "cell_type": "code",
   "execution_count": 15,
   "metadata": {},
   "outputs": [
    {
     "name": "stderr",
     "output_type": "stream",
     "text": [
      "C:\\Users\\mvmigem\\AppData\\Local\\Temp\\ipykernel_4208\\2173802747.py:1: FutureWarning: \n",
      "\n",
      "The `errwidth` parameter is deprecated. And will be removed in v0.15.0. Pass `err_kws={'linewidth': 1.5}` instead.\n",
      "\n",
      "  ax = sns.barplot(data= acc_results, y = 'hit_rate', x = 'attention', hue='expectation',\n"
     ]
    },
    {
     "data": {
      "image/png": "[encoded data removed]",
      "text/plain": [
       "<Figure size 640x480 with 1 Axes>"
      ]
     },
     "metadata": {},
     "output_type": "display_data"
    }
   ],
   "source": [
    "ax = sns.barplot(data= acc_results, y = 'hit_rate', x = 'attention', hue='expectation',\n",
    "                 edgecolor= 'black',\n",
    "                errorbar='se', errwidth= 1.5,\n",
    "                capsize=.1,width=.6, linewidth=0.7)"
   ]
  },
  {
   "cell_type": "code",
   "execution_count": null,
   "metadata": {},
   "outputs": [],
   "source": [
    "excuded_pp = [3,14,20]\n",
    "pp_info = big_df.groupby('participant').first().reset_index()\n",
    "pp_info = pp_info[~pp_info['participant'].isin(excuded_pp)]\n",
    "\n"
   ]
  },
  {
   "cell_type": "code",
   "execution_count": null,
   "metadata": {},
   "outputs": [],
   "source": [
    "pp_info['handed'].value_counts()"
   ]
  },
  {
   "cell_type": "code",
   "execution_count": null,
   "metadata": {},
   "outputs": [],
   "source": [
    "\"\"\" \n",
    "Ugh accuracies\n",
    "\"\"\"\n"
   ]
  }
 ],
 "metadata": {
  "kernelspec": {
   "display_name": "mne",
   "language": "python",
   "name": "python3"
  },
  "language_info": {
   "codemirror_mode": {
    "name": "ipython",
    "version": 3
   },
   "file_extension": ".py",
   "mimetype": "text/x-python",
   "name": "python",
   "nbconvert_exporter": "python",
   "pygments_lexer": "ipython3",
   "version": "3.9.18"
  }
 },
 "nbformat": 4,
 "nbformat_minor": 2
}
