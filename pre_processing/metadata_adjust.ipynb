{
 "cells": [
  {
   "cell_type": "code",
   "execution_count": null,
   "metadata": {},
   "outputs": [],
   "source": [
    "import random\n",
    "import mne, os, glob\n",
    "import numpy as np\n",
    "import pandas as pd\n",
    "from matplotlib import pyplot as plt\n",
    "%matplotlib qt "
   ]
  },
  {
   "cell_type": "code",
   "execution_count": null,
   "metadata": {},
   "outputs": [],
   "source": [
    "\"\"\" \n",
    "Loading data\n",
    "\"\"\"\n",
    "\n",
    "raw_data_dir = '/Users/mvmigem/Documents/data/project_1/raw_data/'\n",
    "example_data_dir = '/Users/mvmigem/Documents/data/project_1/preprocessed/average_ref/'\n",
    "cleaned_data_dir = '/Users/mvmigem/Documents/data/project_1/preprocessed/mastoid_ref/'\n",
    "# Indicate which subjects are being done\n",
    "n_subs = 26\n",
    "subj_base = np.arange(2,n_subs+1) # list of participants that are going to be processed\n"
   ]
  },
  {
   "cell_type": "code",
   "execution_count": null,
   "metadata": {},
   "outputs": [],
   "source": [
    "sub = 26\n",
    "# Load behavioural data\n",
    "behav_path = os.path.join(raw_data_dir,f'sub_{sub}/behav/predatt_participant_{sub}.csv')\n",
    "behav_data = pd.read_csv(behav_path)\n",
    "# Load cleaned epoch file\n",
    "epoch_path = os.path.join(cleaned_data_dir,f'unpaired/main_clean_mastoidref_{sub:02}-epo.fif')\n",
    "epoch = mne.read_epochs(epoch_path)\n",
    "ep_events = epoch.events\n",
    "# Add the metadata and add a column for later regular trial subselection\n",
    "behav_data['precedes_odd'] = behav_data['expected'].shift(-1).eq('odd').astype(int)\n",
    "meta_data = pd.DataFrame(np.repeat(behav_data.values, 5, axis=0), columns=behav_data.columns)\n",
    "# epoch.metadata = meta_data"
   ]
  },
  {
   "cell_type": "code",
   "execution_count": null,
   "metadata": {},
   "outputs": [],
   "source": [
    "check_missing = []\n",
    "for i in range(len(ep_events)-5):\n",
    "    if ep_events[i,2] == 99:\n",
    "        if  ep_events[i+5,2] != 99:\n",
    "            check_missing.append(i+5)"
   ]
  },
  {
   "cell_type": "code",
   "execution_count": null,
   "metadata": {},
   "outputs": [],
   "source": [
    "# meta_data = meta_data.iloc[:-5]\n",
    "meta_data = meta_data.iloc[:-1] # pp1"
   ]
  },
  {
   "cell_type": "code",
   "execution_count": null,
   "metadata": {},
   "outputs": [],
   "source": [
    "meta_data = meta_data.iloc[1:]"
   ]
  },
  {
   "cell_type": "code",
   "execution_count": null,
   "metadata": {},
   "outputs": [],
   "source": [
    "\n",
    "# there was an error that accidentaly dropped the last/first stims of  trials (prob due to block cuttoff)\n",
    "lost_stim = []\n",
    "shift_comp = 0\n",
    "for i in range(len(ep_events)-5):\n",
    "    if ep_events[i,2] == 99:\n",
    "        if ep_events[i +5,2] !=99:\n",
    "            lost_stim.append(i+5+ shift_comp)\n",
    "            shift_comp += 1\n",
    "meta_data = meta_data.drop(lost_stim).reset_index(drop=True)\n"
   ]
  },
  {
   "cell_type": "code",
   "execution_count": null,
   "metadata": {},
   "outputs": [],
   "source": [
    "epoch.metadata = meta_data\n",
    "epoch_save_path = os.path.join(cleaned_data_dir,f'main_eventset_mastoidref_{sub:02}-epo.fif')\n",
    "epoch.save(epoch_save_path)"
   ]
  },
  {
   "cell_type": "code",
   "execution_count": null,
   "metadata": {},
   "outputs": [],
   "source": [
    "for subj in range(1,22):\n",
    "    if subj == 20:\n",
    "        continue\n",
    "    epoch_path = os.path.join(cleaned_data_dir,f'unpaired/main_clean_mastoidref_{subj:02}-epo.fif')\n",
    "    epoch = mne.read_epochs(epoch_path)\n",
    "    ep_events = epoch.events\n",
    "    epoch_exmp_path = os.path.join(example_data_dir,f'main_eventset_averageref_{subj:02}-epo.fif')\n",
    "    epoch_exmp = mne.read_epochs(epoch_exmp_path)\n",
    "    meta_data = epoch_exmp.metadata\n",
    "\n",
    "    epoch.metadata = meta_data\n",
    "    epoch_save_path = os.path.join(cleaned_data_dir,f'main_eventset_mastoidref_{subj:02}-epo.fif')\n",
    "    epoch.save(epoch_save_path)"
   ]
  }
 ],
 "metadata": {
  "kernelspec": {
   "display_name": "mne",
   "language": "python",
   "name": "python3"
  },
  "language_info": {
   "codemirror_mode": {
    "name": "ipython",
    "version": 3
   },
   "file_extension": ".py",
   "mimetype": "text/x-python",
   "name": "python",
   "nbconvert_exporter": "python",
   "pygments_lexer": "ipython3",
   "version": "3.9.18"
  }
 },
 "nbformat": 4,
 "nbformat_minor": 2
}
