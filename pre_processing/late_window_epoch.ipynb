{
 "cells": [
  {
   "cell_type": "code",
   "execution_count": 2,
   "id": "1cb48417",
   "metadata": {},
   "outputs": [],
   "source": [
    "# Import some libraries\n",
    "import os\n",
    "import numpy as np\n",
    "import mne\n",
    "import pandas as pd\n",
    "\n",
    "%matplotlib qt "
   ]
  },
  {
   "cell_type": "code",
   "execution_count": 30,
   "id": "b2342c36",
   "metadata": {},
   "outputs": [],
   "source": [
    "# Prepare helper functions\n",
    "def create_header_row(original_row):\n",
    "    \"\"\"\n",
    "    Create a header row based on the first row of a trial\n",
    "    \"\"\"\n",
    "    header_row = original_row.copy()\n",
    "    header_row['eeg_trigger'] = 99\n",
    "    header_row['t_stim'] = 0\n",
    "    header_row['sequence'] = None\n",
    "    header_row['position'] = None\n",
    "\n",
    "    return header_row\n",
    "\n",
    "def create_extended_df(data_frame):\n",
    "    \"\"\"\n",
    "    Create a new df with an extra header row\n",
    "    \"\"\"\n",
    "    new_rows = []\n",
    "    for i in range(0, len(data_frame), 4):\n",
    "        # Create header row from first row of trial\n",
    "        header_row = create_header_row(data_frame.iloc[i])\n",
    "        new_rows.append(pd.DataFrame([header_row], index=[i - 0.5]))\n",
    "        \n",
    "        # Add original trial rows\n",
    "        new_rows.append(data_frame.iloc[i:i+4])\n",
    "\n",
    "    return pd.concat(new_rows).sort_index().reset_index(drop=True)\n",
    "\n",
    "def align_df_with_array(df, modified_array, pattern_column='eeg_trigger'):\n",
    "    \"\"\"\n",
    "    Align DataFrame with a modified array by removing rows that were dropped from the complete array\n",
    "    \"\"\"\n",
    "    # Convert DataFrame column to numpy array for comparison\n",
    "    complete_array = df[pattern_column].values\n",
    "    \n",
    "    # Find which indices from complete_array are missing in modified_array\n",
    "    complete_indices = []\n",
    "    modified_indices = []\n",
    "    \n",
    "    i, j = 0, 0\n",
    "    while i < len(complete_array) and j < len(modified_array):\n",
    "        if complete_array[i] == modified_array[j]:\n",
    "            complete_indices.append(i)\n",
    "            modified_indices.append(j)\n",
    "            i += 1\n",
    "            j += 1\n",
    "        else:\n",
    "            # This value was dropped from complete_array\n",
    "            i += 1\n",
    "    # Now remove rows from DataFrame that correspond to dropped indices\n",
    "    rows_to_keep = complete_indices  # These indices survived in the modified array\n",
    "  \n",
    "    return df.iloc[rows_to_keep].reset_index(drop=True)\n",
    "\n",
    "def make_eegtrigger(row):\n",
    "    \"\"\" \n",
    "    Create eeg trigger column in the behaviour to check alignment\n",
    "    \"\"\"\n",
    "    dir = row['trial_direction']\n",
    "    start = row['start_position']\n",
    "    seq = row['sequence'] - 1\n",
    "\n",
    "    # This is to select the presentation direction\n",
    "    dir_list = np.arange(1,5)\n",
    "    if dir == 0:\n",
    "        stimpos_ls = np.roll(dir_list, -start, axis=0)   # select the starting point of the stimulus\n",
    "    elif dir == 1:\n",
    "        stimpos_ls = np.roll(dir_list[::-1], 1+start, axis=0)   # select the starting point of the stimulus and reverse direction\n",
    "    row['position'] = stimpos_ls[seq]\n",
    "\n",
    "    return row['position']\n"
   ]
  },
  {
   "cell_type": "code",
   "execution_count": 37,
   "id": "9790fe40",
   "metadata": {},
   "outputs": [
    {
     "name": "stdout",
     "output_type": "stream",
     "text": [
      "Opening raw data file /Users/mvmigem/Documents/data/project_1/preprocessed/mastoid_raw/main_clean_mastoidref_01-raw.fif...\n",
      "    Range : 0 ... 1465855 =      0.000 ...  2862.998 secs\n",
      "Ready.\n",
      "Finding events on: Status\n",
      "Trigger channel Status has a non-zero initial value of 65536 (consider using initial_event=True to detect this event)\n",
      "4271 events found on stim channel Status\n",
      "Event IDs: [   12    14    21    23    32    34    41    43    99   255 65536 65789\n",
      " 65791]\n",
      "Not setting metadata\n",
      "4189 matching events found\n",
      "Setting baseline interval to [-0.09765625, 0.0] s\n",
      "Applying baseline correction (mode: mean)\n",
      "Loading data for 4189 events and 564 original time points (prior to decimation) ...\n"
     ]
    },
    {
     "name": "stderr",
     "output_type": "stream",
     "text": [
      "C:\\Users\\mvmigem\\AppData\\Local\\Temp\\ipykernel_1936\\3434597411.py:38: RuntimeWarning: The measurement information indicates a low-pass frequency of 85.33333587646484 Hz. The decim=2 parameter will result in a sampling frequency of 256.0 Hz, which can cause aliasing artifacts.\n",
      "  epochs = mne.Epochs(raw, events, event_id = event_id,\n"
     ]
    },
    {
     "name": "stdout",
     "output_type": "stream",
     "text": [
      "1 bad epochs dropped\n",
      "Adding metadata with 36 columns\n",
      "Overwriting existing file.\n",
      "Overwriting existing file.\n",
      "Overwriting existing file.\n",
      "Opening raw data file /Users/mvmigem/Documents/data/project_1/preprocessed/mastoid_raw/main_clean_mastoidref_02-raw.fif...\n",
      "    Range : 0 ... 1660927 =      0.000 ...  3243.998 secs\n",
      "Ready.\n",
      "Finding events on: Status\n",
      "Trigger channel Status has a non-zero initial value of 65536 (consider using initial_event=True to detect this event)\n",
      "4287 events found on stim channel Status\n",
      "Event IDs: [   12    14    21    23    32    34    41    43    99   254   255 65536\n",
      " 65789 65791]\n",
      "Not setting metadata\n",
      "4196 matching events found\n",
      "Setting baseline interval to [-0.09765625, 0.0] s\n",
      "Applying baseline correction (mode: mean)\n",
      "Loading data for 4196 events and 564 original time points (prior to decimation) ...\n"
     ]
    },
    {
     "name": "stderr",
     "output_type": "stream",
     "text": [
      "C:\\Users\\mvmigem\\AppData\\Local\\Temp\\ipykernel_1936\\3434597411.py:38: RuntimeWarning: The measurement information indicates a low-pass frequency of 85.33333587646484 Hz. The decim=2 parameter will result in a sampling frequency of 256.0 Hz, which can cause aliasing artifacts.\n",
      "  epochs = mne.Epochs(raw, events, event_id = event_id,\n"
     ]
    },
    {
     "name": "stdout",
     "output_type": "stream",
     "text": [
      "1 bad epochs dropped\n",
      "Adding metadata with 36 columns\n",
      "Opening raw data file /Users/mvmigem/Documents/data/project_1/preprocessed/mastoid_raw/main_clean_mastoidref_04-raw.fif...\n",
      "    Range : 0 ... 1488383 =      0.000 ...  2906.998 secs\n",
      "Ready.\n",
      "Finding events on: Status\n",
      "Trigger channel Status has a non-zero initial value of 65536 (consider using initial_event=True to detect this event)\n",
      "4285 events found on stim channel Status\n",
      "Event IDs: [   11    13    22    24    31    33    42    44    99   254   255 65536\n",
      " 65789 65791]\n",
      "Not setting metadata\n",
      "4200 matching events found\n",
      "Setting baseline interval to [-0.09765625, 0.0] s\n",
      "Applying baseline correction (mode: mean)\n",
      "Loading data for 4200 events and 564 original time points (prior to decimation) ...\n"
     ]
    },
    {
     "name": "stderr",
     "output_type": "stream",
     "text": [
      "C:\\Users\\mvmigem\\AppData\\Local\\Temp\\ipykernel_1936\\3434597411.py:38: RuntimeWarning: The measurement information indicates a low-pass frequency of 85.33333587646484 Hz. The decim=2 parameter will result in a sampling frequency of 256.0 Hz, which can cause aliasing artifacts.\n",
      "  epochs = mne.Epochs(raw, events, event_id = event_id,\n"
     ]
    },
    {
     "name": "stdout",
     "output_type": "stream",
     "text": [
      "0 bad epochs dropped\n",
      "Adding metadata with 36 columns\n",
      "Opening raw data file /Users/mvmigem/Documents/data/project_1/preprocessed/mastoid_raw/main_clean_mastoidref_05-raw.fif...\n",
      "    Range : 0 ... 1598975 =      0.000 ...  3122.998 secs\n",
      "Ready.\n",
      "Finding events on: Status\n",
      "Trigger channel Status has a non-zero initial value of 65536 (consider using initial_event=True to detect this event)\n",
      "4145 events found on stim channel Status\n",
      "Event IDs: [   12    14    21    23    32    34    41    43    99   255 65536 65789\n",
      " 65791]\n",
      "Not setting metadata\n",
      "4054 matching events found\n",
      "Setting baseline interval to [-0.09765625, 0.0] s\n",
      "Applying baseline correction (mode: mean)\n",
      "Loading data for 4054 events and 564 original time points (prior to decimation) ...\n"
     ]
    },
    {
     "name": "stderr",
     "output_type": "stream",
     "text": [
      "C:\\Users\\mvmigem\\AppData\\Local\\Temp\\ipykernel_1936\\3434597411.py:38: RuntimeWarning: The measurement information indicates a low-pass frequency of 85.33333587646484 Hz. The decim=2 parameter will result in a sampling frequency of 256.0 Hz, which can cause aliasing artifacts.\n",
      "  epochs = mne.Epochs(raw, events, event_id = event_id,\n"
     ]
    },
    {
     "name": "stdout",
     "output_type": "stream",
     "text": [
      "0 bad epochs dropped\n",
      "Adding metadata with 36 columns\n",
      "Opening raw data file /Users/mvmigem/Documents/data/project_1/preprocessed/mastoid_raw/main_clean_mastoidref_06-raw.fif...\n",
      "    Range : 0 ... 1575935 =      0.000 ...  3077.998 secs\n",
      "Ready.\n",
      "Finding events on: Status\n",
      "Trigger channel Status has a non-zero initial value of 65536 (consider using initial_event=True to detect this event)\n",
      "4280 events found on stim channel Status\n",
      "Event IDs: [   11    13    22    24    31    33    42    44    99   255 65536 65789\n",
      " 65791]\n",
      "Not setting metadata\n",
      "4200 matching events found\n",
      "Setting baseline interval to [-0.09765625, 0.0] s\n",
      "Applying baseline correction (mode: mean)\n",
      "Loading data for 4200 events and 564 original time points (prior to decimation) ...\n"
     ]
    },
    {
     "name": "stderr",
     "output_type": "stream",
     "text": [
      "C:\\Users\\mvmigem\\AppData\\Local\\Temp\\ipykernel_1936\\3434597411.py:38: RuntimeWarning: The measurement information indicates a low-pass frequency of 85.33333587646484 Hz. The decim=2 parameter will result in a sampling frequency of 256.0 Hz, which can cause aliasing artifacts.\n",
      "  epochs = mne.Epochs(raw, events, event_id = event_id,\n"
     ]
    },
    {
     "name": "stdout",
     "output_type": "stream",
     "text": [
      "0 bad epochs dropped\n",
      "Adding metadata with 36 columns\n",
      "Opening raw data file /Users/mvmigem/Documents/data/project_1/preprocessed/mastoid_raw/main_clean_mastoidref_07-raw.fif...\n",
      "    Range : 0 ... 1472511 =      0.000 ...  2875.998 secs\n",
      "Ready.\n",
      "Finding events on: Status\n",
      "Trigger channel Status has a non-zero initial value of 65536 (consider using initial_event=True to detect this event)\n",
      "3998 events found on stim channel Status\n",
      "Event IDs: [   12    14    21    23    32    34    41    43    99   255 65536 65789\n",
      " 65791]\n",
      "Not setting metadata\n",
      "3918 matching events found\n",
      "Setting baseline interval to [-0.09765625, 0.0] s\n",
      "Applying baseline correction (mode: mean)\n",
      "Loading data for 3918 events and 564 original time points (prior to decimation) ...\n"
     ]
    },
    {
     "name": "stderr",
     "output_type": "stream",
     "text": [
      "C:\\Users\\mvmigem\\AppData\\Local\\Temp\\ipykernel_1936\\3434597411.py:38: RuntimeWarning: The measurement information indicates a low-pass frequency of 85.33333587646484 Hz. The decim=2 parameter will result in a sampling frequency of 256.0 Hz, which can cause aliasing artifacts.\n",
      "  epochs = mne.Epochs(raw, events, event_id = event_id,\n"
     ]
    },
    {
     "name": "stdout",
     "output_type": "stream",
     "text": [
      "0 bad epochs dropped\n",
      "Adding metadata with 36 columns\n",
      "Opening raw data file /Users/mvmigem/Documents/data/project_1/preprocessed/mastoid_raw/main_clean_mastoidref_08-raw.fif...\n",
      "    Range : 0 ... 1507327 =      0.000 ...  2943.998 secs\n",
      "Ready.\n",
      "Finding events on: Status\n",
      "Trigger channel Status has a non-zero initial value of 65536 (consider using initial_event=True to detect this event)\n",
      "3600 events found on stim channel Status\n",
      "Event IDs: [   12    14    21    23    32    34    41    43    99   255 65536 65789\n",
      " 65791]\n",
      "Not setting metadata\n",
      "3506 matching events found\n",
      "Setting baseline interval to [-0.09765625, 0.0] s\n",
      "Applying baseline correction (mode: mean)\n",
      "Loading data for 3506 events and 564 original time points (prior to decimation) ...\n"
     ]
    },
    {
     "name": "stderr",
     "output_type": "stream",
     "text": [
      "C:\\Users\\mvmigem\\AppData\\Local\\Temp\\ipykernel_1936\\3434597411.py:38: RuntimeWarning: The measurement information indicates a low-pass frequency of 85.33333587646484 Hz. The decim=2 parameter will result in a sampling frequency of 256.0 Hz, which can cause aliasing artifacts.\n",
      "  epochs = mne.Epochs(raw, events, event_id = event_id,\n"
     ]
    },
    {
     "name": "stdout",
     "output_type": "stream",
     "text": [
      "0 bad epochs dropped\n",
      "Adding metadata with 36 columns\n",
      "Opening raw data file /Users/mvmigem/Documents/data/project_1/preprocessed/mastoid_raw/main_clean_mastoidref_09-raw.fif...\n",
      "    Range : 0 ... 1391615 =      0.000 ...  2717.998 secs\n",
      "Ready.\n",
      "Finding events on: Status\n",
      "Trigger channel Status has a non-zero initial value of 65536 (consider using initial_event=True to detect this event)\n",
      "3521 events found on stim channel Status\n",
      "Event IDs: [   11    13    22    24    31    33    42    44    99   255 65536 65789\n",
      " 65791]\n",
      "Not setting metadata\n",
      "3425 matching events found\n",
      "Setting baseline interval to [-0.09765625, 0.0] s\n",
      "Applying baseline correction (mode: mean)\n",
      "Loading data for 3425 events and 564 original time points (prior to decimation) ...\n"
     ]
    },
    {
     "name": "stderr",
     "output_type": "stream",
     "text": [
      "C:\\Users\\mvmigem\\AppData\\Local\\Temp\\ipykernel_1936\\3434597411.py:38: RuntimeWarning: The measurement information indicates a low-pass frequency of 85.33333587646484 Hz. The decim=2 parameter will result in a sampling frequency of 256.0 Hz, which can cause aliasing artifacts.\n",
      "  epochs = mne.Epochs(raw, events, event_id = event_id,\n"
     ]
    },
    {
     "name": "stdout",
     "output_type": "stream",
     "text": [
      "0 bad epochs dropped\n",
      "Adding metadata with 36 columns\n",
      "Opening raw data file /Users/mvmigem/Documents/data/project_1/preprocessed/mastoid_raw/main_clean_mastoidref_10-raw.fif...\n",
      "    Range : 0 ... 1496575 =      0.000 ...  2922.998 secs\n",
      "Ready.\n",
      "Finding events on: Status\n",
      "Trigger channel Status has a non-zero initial value of 65536 (consider using initial_event=True to detect this event)\n",
      "4279 events found on stim channel Status\n",
      "Event IDs: [   12    14    21    23    32    34    41    43    99   255 65536 65789\n",
      " 65791]\n",
      "Not setting metadata\n",
      "4200 matching events found\n",
      "Setting baseline interval to [-0.09765625, 0.0] s\n",
      "Applying baseline correction (mode: mean)\n",
      "Loading data for 4200 events and 564 original time points (prior to decimation) ...\n"
     ]
    },
    {
     "name": "stderr",
     "output_type": "stream",
     "text": [
      "C:\\Users\\mvmigem\\AppData\\Local\\Temp\\ipykernel_1936\\3434597411.py:38: RuntimeWarning: The measurement information indicates a low-pass frequency of 85.33333587646484 Hz. The decim=2 parameter will result in a sampling frequency of 256.0 Hz, which can cause aliasing artifacts.\n",
      "  epochs = mne.Epochs(raw, events, event_id = event_id,\n"
     ]
    },
    {
     "name": "stdout",
     "output_type": "stream",
     "text": [
      "0 bad epochs dropped\n",
      "Adding metadata with 36 columns\n",
      "Opening raw data file /Users/mvmigem/Documents/data/project_1/preprocessed/mastoid_raw/main_clean_mastoidref_11-raw.fif...\n",
      "    Range : 0 ... 1606143 =      0.000 ...  3136.998 secs\n",
      "Ready.\n",
      "Finding events on: Status\n",
      "Trigger channel Status has a non-zero initial value of 65536 (consider using initial_event=True to detect this event)\n",
      "4287 events found on stim channel Status\n",
      "Event IDs: [   12    14    21    23    32    34    41    43    99   255 65536 65789\n",
      " 65791]\n",
      "Not setting metadata\n",
      "4195 matching events found\n",
      "Setting baseline interval to [-0.09765625, 0.0] s\n",
      "Applying baseline correction (mode: mean)\n",
      "Loading data for 4195 events and 564 original time points (prior to decimation) ...\n"
     ]
    },
    {
     "name": "stderr",
     "output_type": "stream",
     "text": [
      "C:\\Users\\mvmigem\\AppData\\Local\\Temp\\ipykernel_1936\\3434597411.py:38: RuntimeWarning: The measurement information indicates a low-pass frequency of 85.33333587646484 Hz. The decim=2 parameter will result in a sampling frequency of 256.0 Hz, which can cause aliasing artifacts.\n",
      "  epochs = mne.Epochs(raw, events, event_id = event_id,\n"
     ]
    },
    {
     "name": "stdout",
     "output_type": "stream",
     "text": [
      "0 bad epochs dropped\n",
      "Adding metadata with 36 columns\n",
      "Opening raw data file /Users/mvmigem/Documents/data/project_1/preprocessed/mastoid_raw/main_clean_mastoidref_12-raw.fif...\n",
      "    Range : 0 ... 1515519 =      0.000 ...  2959.998 secs\n",
      "Ready.\n",
      "Finding events on: Status\n",
      "Trigger channel Status has a non-zero initial value of 65536 (consider using initial_event=True to detect this event)\n",
      "4293 events found on stim channel Status\n",
      "Event IDs: [   11    13    22    24    31    33    42    44    99   255 65536 65789\n",
      " 65791]\n",
      "Not setting metadata\n",
      "4194 matching events found\n",
      "Setting baseline interval to [-0.09765625, 0.0] s\n",
      "Applying baseline correction (mode: mean)\n",
      "Loading data for 4194 events and 564 original time points (prior to decimation) ...\n"
     ]
    },
    {
     "name": "stderr",
     "output_type": "stream",
     "text": [
      "C:\\Users\\mvmigem\\AppData\\Local\\Temp\\ipykernel_1936\\3434597411.py:38: RuntimeWarning: The measurement information indicates a low-pass frequency of 85.33333587646484 Hz. The decim=2 parameter will result in a sampling frequency of 256.0 Hz, which can cause aliasing artifacts.\n",
      "  epochs = mne.Epochs(raw, events, event_id = event_id,\n"
     ]
    },
    {
     "name": "stdout",
     "output_type": "stream",
     "text": [
      "0 bad epochs dropped\n",
      "Adding metadata with 36 columns\n",
      "Opening raw data file /Users/mvmigem/Documents/data/project_1/preprocessed/mastoid_raw/main_clean_mastoidref_13-raw.fif...\n",
      "    Range : 0 ... 1564671 =      0.000 ...  3055.998 secs\n",
      "Ready.\n",
      "Finding events on: Status\n",
      "Trigger channel Status has a non-zero initial value of 65536 (consider using initial_event=True to detect this event)\n",
      "4278 events found on stim channel Status\n",
      "Event IDs: [   12    14    21    23    32    34    41    43    99   255 65536 65789\n",
      " 65791]\n",
      "Not setting metadata\n",
      "4200 matching events found\n",
      "Setting baseline interval to [-0.09765625, 0.0] s\n",
      "Applying baseline correction (mode: mean)\n",
      "Loading data for 4200 events and 564 original time points (prior to decimation) ...\n"
     ]
    },
    {
     "name": "stderr",
     "output_type": "stream",
     "text": [
      "C:\\Users\\mvmigem\\AppData\\Local\\Temp\\ipykernel_1936\\3434597411.py:38: RuntimeWarning: The measurement information indicates a low-pass frequency of 85.33333587646484 Hz. The decim=2 parameter will result in a sampling frequency of 256.0 Hz, which can cause aliasing artifacts.\n",
      "  epochs = mne.Epochs(raw, events, event_id = event_id,\n"
     ]
    },
    {
     "name": "stdout",
     "output_type": "stream",
     "text": [
      "0 bad epochs dropped\n",
      "Adding metadata with 36 columns\n",
      "Opening raw data file /Users/mvmigem/Documents/data/project_1/preprocessed/mastoid_raw/main_clean_mastoidref_15-raw.fif...\n",
      "    Range : 0 ... 1497599 =      0.000 ...  2924.998 secs\n",
      "Ready.\n",
      "Finding events on: Status\n",
      "Trigger channel Status has a non-zero initial value of 65536 (consider using initial_event=True to detect this event)\n",
      "4283 events found on stim channel Status\n",
      "Event IDs: [   12    14    21    23    32    34    41    43    99   254   255 65536\n",
      " 65789 65791]\n",
      "Not setting metadata\n",
      "4199 matching events found\n",
      "Setting baseline interval to [-0.09765625, 0.0] s\n",
      "Applying baseline correction (mode: mean)\n",
      "Loading data for 4199 events and 564 original time points (prior to decimation) ...\n"
     ]
    },
    {
     "name": "stderr",
     "output_type": "stream",
     "text": [
      "C:\\Users\\mvmigem\\AppData\\Local\\Temp\\ipykernel_1936\\3434597411.py:38: RuntimeWarning: The measurement information indicates a low-pass frequency of 85.33333587646484 Hz. The decim=2 parameter will result in a sampling frequency of 256.0 Hz, which can cause aliasing artifacts.\n",
      "  epochs = mne.Epochs(raw, events, event_id = event_id,\n"
     ]
    },
    {
     "name": "stdout",
     "output_type": "stream",
     "text": [
      "1 bad epochs dropped\n",
      "Adding metadata with 36 columns\n",
      "Opening raw data file /Users/mvmigem/Documents/data/project_1/preprocessed/mastoid_raw/main_clean_mastoidref_16-raw.fif...\n",
      "    Range : 0 ... 1511935 =      0.000 ...  2952.998 secs\n",
      "Ready.\n",
      "Finding events on: Status\n",
      "Trigger channel Status has a non-zero initial value of 65536 (consider using initial_event=True to detect this event)\n",
      "4281 events found on stim channel Status\n",
      "Event IDs: [   11    13    22    24    31    33    42    44    99   255 65536 65789\n",
      " 65791]\n",
      "Not setting metadata\n",
      "4200 matching events found\n",
      "Setting baseline interval to [-0.09765625, 0.0] s\n",
      "Applying baseline correction (mode: mean)\n",
      "Loading data for 4200 events and 564 original time points (prior to decimation) ...\n"
     ]
    },
    {
     "name": "stderr",
     "output_type": "stream",
     "text": [
      "C:\\Users\\mvmigem\\AppData\\Local\\Temp\\ipykernel_1936\\3434597411.py:38: RuntimeWarning: The measurement information indicates a low-pass frequency of 85.33333587646484 Hz. The decim=2 parameter will result in a sampling frequency of 256.0 Hz, which can cause aliasing artifacts.\n",
      "  epochs = mne.Epochs(raw, events, event_id = event_id,\n"
     ]
    },
    {
     "name": "stdout",
     "output_type": "stream",
     "text": [
      "0 bad epochs dropped\n",
      "Adding metadata with 36 columns\n",
      "Opening raw data file /Users/mvmigem/Documents/data/project_1/preprocessed/mastoid_raw/main_clean_mastoidref_17-raw.fif...\n",
      "    Range : 0 ... 1517055 =      0.000 ...  2962.998 secs\n",
      "Ready.\n",
      "Finding events on: Status\n",
      "Trigger channel Status has a non-zero initial value of 65536 (consider using initial_event=True to detect this event)\n",
      "4277 events found on stim channel Status\n",
      "Event IDs: [   12    14    21    23    32    34    41    43    99   255 65536 65789\n",
      " 65791]\n",
      "Not setting metadata\n",
      "4200 matching events found\n",
      "Setting baseline interval to [-0.09765625, 0.0] s\n",
      "Applying baseline correction (mode: mean)\n",
      "Loading data for 4200 events and 564 original time points (prior to decimation) ...\n"
     ]
    },
    {
     "name": "stderr",
     "output_type": "stream",
     "text": [
      "C:\\Users\\mvmigem\\AppData\\Local\\Temp\\ipykernel_1936\\3434597411.py:38: RuntimeWarning: The measurement information indicates a low-pass frequency of 85.33333587646484 Hz. The decim=2 parameter will result in a sampling frequency of 256.0 Hz, which can cause aliasing artifacts.\n",
      "  epochs = mne.Epochs(raw, events, event_id = event_id,\n"
     ]
    },
    {
     "name": "stdout",
     "output_type": "stream",
     "text": [
      "0 bad epochs dropped\n",
      "Adding metadata with 36 columns\n",
      "Opening raw data file /Users/mvmigem/Documents/data/project_1/preprocessed/mastoid_raw/main_clean_mastoidref_18-raw.fif...\n",
      "    Range : 0 ... 1845247 =      0.000 ...  3603.998 secs\n",
      "Ready.\n",
      "Finding events on: Status\n",
      "Trigger channel Status has a non-zero initial value of 65536 (consider using initial_event=True to detect this event)\n",
      "4286 events found on stim channel Status\n",
      "Event IDs: [   12    14    21    23    32    34    41    43    99   255 65536 65789\n",
      " 65791]\n",
      "Not setting metadata\n",
      "4195 matching events found\n",
      "Setting baseline interval to [-0.09765625, 0.0] s\n",
      "Applying baseline correction (mode: mean)\n",
      "Loading data for 4195 events and 564 original time points (prior to decimation) ...\n"
     ]
    },
    {
     "name": "stderr",
     "output_type": "stream",
     "text": [
      "C:\\Users\\mvmigem\\AppData\\Local\\Temp\\ipykernel_1936\\3434597411.py:38: RuntimeWarning: The measurement information indicates a low-pass frequency of 85.33333587646484 Hz. The decim=2 parameter will result in a sampling frequency of 256.0 Hz, which can cause aliasing artifacts.\n",
      "  epochs = mne.Epochs(raw, events, event_id = event_id,\n"
     ]
    },
    {
     "name": "stdout",
     "output_type": "stream",
     "text": [
      "1 bad epochs dropped\n",
      "Adding metadata with 36 columns\n",
      "Opening raw data file /Users/mvmigem/Documents/data/project_1/preprocessed/mastoid_raw/main_clean_mastoidref_19-raw.fif...\n",
      "    Range : 0 ... 1583615 =      0.000 ...  3092.998 secs\n",
      "Ready.\n",
      "Finding events on: Status\n",
      "Trigger channel Status has a non-zero initial value of 65536 (consider using initial_event=True to detect this event)\n",
      "4287 events found on stim channel Status\n",
      "Event IDs: [   11    13    22    24    31    33    42    44    99   255 65536 65789\n",
      " 65791]\n",
      "Not setting metadata\n",
      "4197 matching events found\n",
      "Setting baseline interval to [-0.09765625, 0.0] s\n",
      "Applying baseline correction (mode: mean)\n",
      "Loading data for 4197 events and 564 original time points (prior to decimation) ...\n"
     ]
    },
    {
     "name": "stderr",
     "output_type": "stream",
     "text": [
      "C:\\Users\\mvmigem\\AppData\\Local\\Temp\\ipykernel_1936\\3434597411.py:38: RuntimeWarning: The measurement information indicates a low-pass frequency of 85.33333587646484 Hz. The decim=2 parameter will result in a sampling frequency of 256.0 Hz, which can cause aliasing artifacts.\n",
      "  epochs = mne.Epochs(raw, events, event_id = event_id,\n"
     ]
    },
    {
     "name": "stdout",
     "output_type": "stream",
     "text": [
      "1 bad epochs dropped\n",
      "Adding metadata with 36 columns\n",
      "Opening raw data file /Users/mvmigem/Documents/data/project_1/preprocessed/mastoid_raw/main_clean_mastoidref_21-raw.fif...\n",
      "    Range : 0 ... 1541631 =      0.000 ...  3010.998 secs\n",
      "Ready.\n",
      "Finding events on: Status\n",
      "Trigger channel Status has a non-zero initial value of 65536 (consider using initial_event=True to detect this event)\n",
      "4277 events found on stim channel Status\n",
      "Event IDs: [   11    13    22    24    31    33    42    44    99   255 65536 65789\n",
      " 65791]\n",
      "Not setting metadata\n",
      "4200 matching events found\n",
      "Setting baseline interval to [-0.09765625, 0.0] s\n",
      "Applying baseline correction (mode: mean)\n",
      "Loading data for 4200 events and 564 original time points (prior to decimation) ...\n"
     ]
    },
    {
     "name": "stderr",
     "output_type": "stream",
     "text": [
      "C:\\Users\\mvmigem\\AppData\\Local\\Temp\\ipykernel_1936\\3434597411.py:38: RuntimeWarning: The measurement information indicates a low-pass frequency of 85.33333587646484 Hz. The decim=2 parameter will result in a sampling frequency of 256.0 Hz, which can cause aliasing artifacts.\n",
      "  epochs = mne.Epochs(raw, events, event_id = event_id,\n"
     ]
    },
    {
     "name": "stdout",
     "output_type": "stream",
     "text": [
      "0 bad epochs dropped\n",
      "Adding metadata with 36 columns\n",
      "Opening raw data file /Users/mvmigem/Documents/data/project_1/preprocessed/mastoid_raw/main_clean_mastoidref_22-raw.fif...\n",
      "    Range : 0 ... 1545215 =      0.000 ...  3017.998 secs\n",
      "Ready.\n",
      "Finding events on: Status\n",
      "Trigger channel Status has a non-zero initial value of 65536 (consider using initial_event=True to detect this event)\n",
      "4286 events found on stim channel Status\n",
      "Event IDs: [   12    14    21    23    32    34    41    43    99   255 65536 65789\n",
      " 65791]\n",
      "Not setting metadata\n",
      "4198 matching events found\n",
      "Setting baseline interval to [-0.09765625, 0.0] s\n",
      "Applying baseline correction (mode: mean)\n",
      "Loading data for 4198 events and 564 original time points (prior to decimation) ...\n"
     ]
    },
    {
     "name": "stderr",
     "output_type": "stream",
     "text": [
      "C:\\Users\\mvmigem\\AppData\\Local\\Temp\\ipykernel_1936\\3434597411.py:38: RuntimeWarning: The measurement information indicates a low-pass frequency of 85.33333587646484 Hz. The decim=2 parameter will result in a sampling frequency of 256.0 Hz, which can cause aliasing artifacts.\n",
      "  epochs = mne.Epochs(raw, events, event_id = event_id,\n"
     ]
    },
    {
     "name": "stdout",
     "output_type": "stream",
     "text": [
      "1 bad epochs dropped\n",
      "Adding metadata with 36 columns\n",
      "Opening raw data file /Users/mvmigem/Documents/data/project_1/preprocessed/mastoid_raw/main_clean_mastoidref_23-raw.fif...\n",
      "    Range : 0 ... 1548287 =      0.000 ...  3023.998 secs\n",
      "Ready.\n",
      "Finding events on: Status\n",
      "Trigger channel Status has a non-zero initial value of 65536 (consider using initial_event=True to detect this event)\n",
      "4285 events found on stim channel Status\n",
      "Event IDs: [   12    14    21    23    32    34    41    43    99   255 65536 65789\n",
      " 65791]\n",
      "Not setting metadata\n",
      "4198 matching events found\n",
      "Setting baseline interval to [-0.09765625, 0.0] s\n",
      "Applying baseline correction (mode: mean)\n",
      "Loading data for 4198 events and 564 original time points (prior to decimation) ...\n"
     ]
    },
    {
     "name": "stderr",
     "output_type": "stream",
     "text": [
      "C:\\Users\\mvmigem\\AppData\\Local\\Temp\\ipykernel_1936\\3434597411.py:38: RuntimeWarning: The measurement information indicates a low-pass frequency of 85.33333587646484 Hz. The decim=2 parameter will result in a sampling frequency of 256.0 Hz, which can cause aliasing artifacts.\n",
      "  epochs = mne.Epochs(raw, events, event_id = event_id,\n"
     ]
    },
    {
     "name": "stdout",
     "output_type": "stream",
     "text": [
      "1 bad epochs dropped\n",
      "Adding metadata with 36 columns\n",
      "Opening raw data file /Users/mvmigem/Documents/data/project_1/preprocessed/mastoid_raw/main_clean_mastoidref_24-raw.fif...\n",
      "    Range : 0 ... 1487359 =      0.000 ...  2904.998 secs\n",
      "Ready.\n",
      "Finding events on: Status\n",
      "Trigger channel Status has a non-zero initial value of 65536 (consider using initial_event=True to detect this event)\n",
      "4281 events found on stim channel Status\n",
      "Event IDs: [   12    14    21    23    32    34    41    43    99   255 65536 65789\n",
      " 65791]\n",
      "Not setting metadata\n",
      "4200 matching events found\n",
      "Setting baseline interval to [-0.09765625, 0.0] s\n",
      "Applying baseline correction (mode: mean)\n",
      "Loading data for 4200 events and 564 original time points (prior to decimation) ...\n"
     ]
    },
    {
     "name": "stderr",
     "output_type": "stream",
     "text": [
      "C:\\Users\\mvmigem\\AppData\\Local\\Temp\\ipykernel_1936\\3434597411.py:38: RuntimeWarning: The measurement information indicates a low-pass frequency of 85.33333587646484 Hz. The decim=2 parameter will result in a sampling frequency of 256.0 Hz, which can cause aliasing artifacts.\n",
      "  epochs = mne.Epochs(raw, events, event_id = event_id,\n"
     ]
    },
    {
     "name": "stdout",
     "output_type": "stream",
     "text": [
      "0 bad epochs dropped\n",
      "Adding metadata with 36 columns\n",
      "Opening raw data file /Users/mvmigem/Documents/data/project_1/preprocessed/mastoid_raw/main_clean_mastoidref_25-raw.fif...\n",
      "    Range : 0 ... 1739263 =      0.000 ...  3396.998 secs\n",
      "Ready.\n",
      "Finding events on: Status\n",
      "Trigger channel Status has a non-zero initial value of 65536 (consider using initial_event=True to detect this event)\n",
      "4298 events found on stim channel Status\n",
      "Event IDs: [   11    13    22    24    31    33    42    44    99   255 65536 65789\n",
      " 65791]\n",
      "Not setting metadata\n",
      "4186 matching events found\n",
      "Setting baseline interval to [-0.09765625, 0.0] s\n",
      "Applying baseline correction (mode: mean)\n",
      "Loading data for 4186 events and 564 original time points (prior to decimation) ...\n"
     ]
    },
    {
     "name": "stderr",
     "output_type": "stream",
     "text": [
      "C:\\Users\\mvmigem\\AppData\\Local\\Temp\\ipykernel_1936\\3434597411.py:38: RuntimeWarning: The measurement information indicates a low-pass frequency of 85.33333587646484 Hz. The decim=2 parameter will result in a sampling frequency of 256.0 Hz, which can cause aliasing artifacts.\n",
      "  epochs = mne.Epochs(raw, events, event_id = event_id,\n"
     ]
    },
    {
     "name": "stdout",
     "output_type": "stream",
     "text": [
      "1 bad epochs dropped\n",
      "Adding metadata with 36 columns\n",
      "Opening raw data file /Users/mvmigem/Documents/data/project_1/preprocessed/mastoid_raw/main_clean_mastoidref_26-raw.fif...\n",
      "    Range : 0 ... 1545215 =      0.000 ...  3017.998 secs\n",
      "Ready.\n",
      "Finding events on: Status\n",
      "Trigger channel Status has a non-zero initial value of 65536 (consider using initial_event=True to detect this event)\n",
      "4288 events found on stim channel Status\n",
      "Event IDs: [   11    13    22    24    31    33    42    44    99   255 65536 65789\n",
      " 65791]\n",
      "Not setting metadata\n",
      "4197 matching events found\n",
      "Setting baseline interval to [-0.09765625, 0.0] s\n",
      "Applying baseline correction (mode: mean)\n",
      "Loading data for 4197 events and 564 original time points (prior to decimation) ...\n"
     ]
    },
    {
     "name": "stderr",
     "output_type": "stream",
     "text": [
      "C:\\Users\\mvmigem\\AppData\\Local\\Temp\\ipykernel_1936\\3434597411.py:38: RuntimeWarning: The measurement information indicates a low-pass frequency of 85.33333587646484 Hz. The decim=2 parameter will result in a sampling frequency of 256.0 Hz, which can cause aliasing artifacts.\n",
      "  epochs = mne.Epochs(raw, events, event_id = event_id,\n"
     ]
    },
    {
     "name": "stdout",
     "output_type": "stream",
     "text": [
      "0 bad epochs dropped\n",
      "Adding metadata with 36 columns\n"
     ]
    }
   ],
   "source": [
    "excluded_pp = [3,14,20]\n",
    "for sub in range(1,27):\n",
    "    if sub in excluded_pp: # has no data\n",
    "        continue\n",
    "    # Load continuous data\n",
    "    cleaned_data_dir = '/Users/mvmigem/Documents/data/project_1/preprocessed/'\n",
    "    clean_raw_path = os.path.join(cleaned_data_dir,f'mastoid_raw/main_clean_mastoidref_{sub:02}-raw.fif')\n",
    "    # Load continuous data\n",
    "    data_directory = '/Users/mvmigem/Documents/data/project_1/'\n",
    "    clean_raw_path = os.path.join(data_directory,f'preprocessed/mastoid_raw/main_clean_mastoidref_{sub:02}-raw.fif')\n",
    "    raw = mne.io.read_raw_fif(clean_raw_path)\n",
    "    # Downsampling variables (logic -> https://mne.tools/stable/auto_tutorials/preprocessing/30_filtering_resampling.html#best-practices)\n",
    "    current_sfreq = raw.info['sfreq']\n",
    "    desired_sfreq = 256  # Hz\n",
    "    decim = np.round(current_sfreq / desired_sfreq).astype(int)\n",
    "    events = mne.find_events(raw)\n",
    "    current_behav_path = data_directory + f'raw_data/sub_{sub}/behav/predatt_participant_{sub}.csv'\n",
    "    behav_data = pd.read_csv(current_behav_path)\n",
    "\n",
    "    # Select event dict for condition\n",
    "    if behav_data['start_position'].isin([0, 2]).any():\n",
    "        event_id = {\n",
    "        'start_trial':99, 'pos1/seq':11, 'pos1/seq3':13, \n",
    "        'pos2/seq2':22, 'pos2/seq4':24,\n",
    "        'pos3/seq1':31, 'pos3/seq3':33,\n",
    "        'pos4/seq2':42, 'pos4/seq4':44,\n",
    "        }\n",
    "    elif behav_data['start_position'].isin([1, 3]).any():\n",
    "        # Event dict\n",
    "        event_id = {\n",
    "            'start_trial':99, 'pos1/seq2':12, 'pos1/seq4':14, \n",
    "            'pos2/seq1':21, 'pos2/seq3':23,\n",
    "            'pos3/seq2':32, 'pos3/seq4':34,\n",
    "            'pos4/seq1':41, 'pos4/seq3':43,\n",
    "        }\n",
    "        \n",
    "    # Epoch data around stim onset\n",
    "    epochs = mne.Epochs(raw, events, event_id = event_id,\n",
    "        tmin = -0.1, tmax = 1.0, proj = False, baseline = (None,0), decim=decim, #from previous cell\n",
    "        detrend = None, verbose = True, reject_by_annotation= False, preload = True)\n",
    "\n",
    "    ep_events = epochs.events\n",
    "\n",
    "    meta_data = pd.DataFrame(np.repeat(behav_data.values, 4, axis=0), columns=behav_data.columns)\n",
    "    meta_data['sequence'] = np.tile(np.arange(1, 5), len(behav_data))\n",
    "    meta_data['position'] = meta_data.apply(make_eegtrigger,axis=1)\n",
    "    meta_data['eeg_trigger'] = meta_data['position']*10 + meta_data['sequence']\n",
    "\n",
    "    # Add header row\n",
    "    extended_df = create_extended_df(meta_data)\n",
    "    # Align data\n",
    "    aligned_df = align_df_with_array(extended_df, ep_events[:,2])\n",
    "\n",
    "    if all(ep_events[:,2] == aligned_df['eeg_trigger'].to_numpy()):\n",
    "        epochs.metadata = aligned_df\n",
    "        ep_p4 = epochs['seq4']\n",
    "        ep_p4.save(f\"C:/Users/mvmigem/Documents/data/project_1/preprocessed/mastoid_last_stim/last_stim_{sub:02}-epo.fif\", overwrite=True)"
   ]
  },
  {
   "cell_type": "code",
   "execution_count": null,
   "id": "cbc1d356",
   "metadata": {},
   "outputs": [
    {
     "name": "stdout",
     "output_type": "stream",
     "text": [
      "Opening raw data file /Users/mvmigem/Documents/data/project_1/preprocessed/mastoid_raw/main_clean_mastoidref_01-raw.fif...\n",
      "    Range : 0 ... 1465855 =      0.000 ...  2862.998 secs\n",
      "Ready.\n",
      "Finding events on: Status\n",
      "Trigger channel Status has a non-zero initial value of 65536 (consider using initial_event=True to detect this event)\n",
      "4271 events found on stim channel Status\n",
      "Event IDs: [   12    14    21    23    32    34    41    43    99   255 65536 65789\n",
      " 65791]\n",
      "Not setting metadata\n",
      "4189 matching events found\n",
      "Setting baseline interval to [-0.09765625, 0.0] s\n",
      "Applying baseline correction (mode: mean)\n",
      "Loading data for 4189 events and 564 original time points (prior to decimation) ...\n"
     ]
    },
    {
     "name": "stderr",
     "output_type": "stream",
     "text": [
      "C:\\Users\\mvmigem\\AppData\\Local\\Temp\\ipykernel_1936\\2790979079.py:31: RuntimeWarning: The measurement information indicates a low-pass frequency of 85.33333587646484 Hz. The decim=2 parameter will result in a sampling frequency of 256.0 Hz, which can cause aliasing artifacts.\n",
      "  epochs_stimlock = mne.Epochs(raw, events, event_id = event_id,\n"
     ]
    },
    {
     "name": "stdout",
     "output_type": "stream",
     "text": [
      "1 bad epochs dropped\n"
     ]
    },
    {
     "data": {
      "text/plain": [
       "True"
      ]
     },
     "execution_count": 33,
     "metadata": {},
     "output_type": "execute_result"
    }
   ],
   "source": []
  }
 ],
 "metadata": {
  "kernelspec": {
   "display_name": "mne",
   "language": "python",
   "name": "python3"
  },
  "language_info": {
   "codemirror_mode": {
    "name": "ipython",
    "version": 3
   },
   "file_extension": ".py",
   "mimetype": "text/x-python",
   "name": "python",
   "nbconvert_exporter": "python",
   "pygments_lexer": "ipython3",
   "version": "3.13.5"
  }
 },
 "nbformat": 4,
 "nbformat_minor": 5
}
